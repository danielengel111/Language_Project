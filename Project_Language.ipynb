{
  "cells": [
    {
      "cell_type": "markdown",
      "metadata": {
        "id": "eQ6n3Htlt3y9"
      },
      "source": [
        "# Intro\n",
        "\n",
        "The following code provides you with surprisal values for the same data you used in Homework 2.  The surprisal values are based on the output of an RNN model.\n",
        "\n",
        "We leave it up to you to perform the alignment between the model output and the reading times!\n",
        "\n",
        "Feel free to skim through the code, it might be helpful for the semi-structured and open-ended tasks!"
      ]
    },
    {
      "cell_type": "markdown",
      "metadata": {
        "id": "ln_K1X0KRr8c"
      },
      "source": [
        "## Set up dependencies and data\n",
        "\n",
        "Run the cell below to fetch the recurrent neural network codebase we've designed for this assignment. It will leave the files in a directory called `rnn` (check in the sidebar after you've run the command)."
      ]
    },
    {
      "cell_type": "code",
      "execution_count": null,
      "metadata": {
        "colab": {
          "base_uri": "https://localhost:8080/"
        },
        "id": "pbRq5Ds9jMeg",
        "outputId": "f639ebdf-8a39-44de-f6c2-b977c371d670"
      },
      "outputs": [
        {
          "output_type": "stream",
          "name": "stderr",
          "text": [
            "Cloning into 'rnn'...\n"
          ]
        }
      ],
      "source": [
        "%%bash\n",
        "git clone https://github.com/scaperex/neural-complexity.git rnn\n",
        "mkdir -p rnn/data/ptb"
      ]
    },
    {
      "cell_type": "markdown",
      "metadata": {
        "id": "H8krcYzgRvmb"
      },
      "source": [
        "## Mount Google Drive\n",
        "\n",
        "We'll save your corpus data, model checkpoints, and output to Google Drive for safekeeping. Follow the instructions in the output of this command to link your Drive account."
      ]
    },
    {
      "cell_type": "code",
      "execution_count": null,
      "metadata": {
        "colab": {
          "base_uri": "https://localhost:8080/"
        },
        "id": "RFlrqEPhxvIT",
        "outputId": "3ad08979-d515-4790-f260-016c5fa896f8"
      },
      "outputs": [
        {
          "output_type": "stream",
          "name": "stdout",
          "text": [
            "Mounted at /content/gdrive\n"
          ]
        }
      ],
      "source": [
        "from google.colab import drive\n",
        "drive.mount('/content/gdrive')"
      ]
    },
    {
      "cell_type": "code",
      "execution_count": null,
      "metadata": {
        "id": "R2Q3yKI4EO-S"
      },
      "outputs": [],
      "source": [
        "GDRIVE_DIR = \"/content/gdrive/My Drive/096222_project_surprisals_and_rts\"\n",
        "!mkdir -p \"$GDRIVE_DIR\"\n",
        "!mkdir -p \"$GDRIVE_DIR/corpus_data\""
      ]
    },
    {
      "cell_type": "markdown",
      "metadata": {
        "id": "CFVqK01ETKOQ"
      },
      "source": [
        "## Upload corpus files for LM training"
      ]
    },
    {
      "cell_type": "markdown",
      "metadata": {
        "id": "CPSSxMinJIO4"
      },
      "source": [
        "Here we upload the Penn Treebank corpus files  to the `rnn/data/ptb` folder.\n",
        "Your files should be named:\n",
        "\n",
        "- `ptb_tok_train.txt`\n",
        "- `ptb_tok_dev.txt`"
      ]
    },
    {
      "cell_type": "code",
      "execution_count": null,
      "metadata": {
        "id": "Wa4hcnT4mka0"
      },
      "outputs": [],
      "source": [
        "!wget -qO rnn/data/ptb/ptb_tok_train.txt https://gist.githubusercontent.com/scaperex/cdd4231472d6188f03ab21e2b2729fee/raw/e1b4c764561fd038470830534baaa220b0eb4c6d/ptb_tok_train.txt\n",
        "!wget -qO rnn/data/ptb/ptb_tok_dev.txt https://gist.githubusercontent.com/scaperex/31eff71b74dfb8cfe93d1a9acf8ab523/raw/094d3094b06beb92cd7fd0496710cf43273f8c64/ptb_tok_dev.txt\n",
        "!cp rnn/data/ptb/* \"$GDRIVE_DIR/corpus_data/\""
      ]
    },
    {
      "cell_type": "markdown",
      "metadata": {
        "id": "UJl-6DkXR3hE"
      },
      "source": [
        "# Recurrent neural network modeling\n",
        "\n",
        "## Train model\n",
        "\n",
        "Now we're ready to begin training the model. The below command will launch the neural network optimization procedure, and progressively save checkpoints to the Google Drive you've just mounted. The neural network train for 40 epochs (1 epoch = 1 loop through the training dataset), which should take approximately **2 hours**.\n",
        "\n",
        "Checkpoints will be saved each time the validation loss improves, and named `ptb_model.pt`. Watch the output of the command below to see how the model's train and validation perplexity improve over time."
      ]
    },
    {
      "cell_type": "code",
      "execution_count": null,
      "metadata": {
        "colab": {
          "base_uri": "https://localhost:8080/"
        },
        "id": "Wm9H0xz8pbE4",
        "outputId": "aa16d9af-2fa5-41ec-f508-6f9ea5320326"
      },
      "outputs": [
        {
          "output_type": "stream",
          "name": "stdout",
          "text": [
            "Libraries loaded\n",
            "| epoch   1 |   200/ 1422 batches | lr 20.00 | ms/batch 13.43 | loss  6.84 | ppl   933.44\n",
            "| epoch   1 |   400/ 1422 batches | lr 20.00 | ms/batch 12.42 | loss  6.06 | ppl   426.41\n",
            "| epoch   1 |   600/ 1422 batches | lr 20.00 | ms/batch 12.46 | loss  5.91 | ppl   368.67\n",
            "| epoch   1 |   800/ 1422 batches | lr 20.00 | ms/batch 12.50 | loss  5.84 | ppl   344.03\n",
            "| epoch   1 |  1000/ 1422 batches | lr 20.00 | ms/batch 12.52 | loss  5.86 | ppl   349.66\n",
            "| epoch   1 |  1200/ 1422 batches | lr 20.00 | ms/batch 14.42 | loss  5.79 | ppl   327.39\n",
            "| epoch   1 |  1400/ 1422 batches | lr 20.00 | ms/batch 13.47 | loss  5.84 | ppl   343.46\n",
            "-----------------------------------------------------------------------------------------\n",
            "| end of epoch   1 | time: 18.72s | lr: 20.00000000 | valid ppl   274.27\n",
            "-----------------------------------------------------------------------------------------\n",
            "| epoch   2 |   200/ 1422 batches | lr 20.00 | ms/batch 12.64 | loss  5.84 | ppl   342.74\n",
            "| epoch   2 |   400/ 1422 batches | lr 20.00 | ms/batch 12.64 | loss  5.87 | ppl   353.13\n",
            "| epoch   2 |   600/ 1422 batches | lr 20.00 | ms/batch 12.66 | loss  5.91 | ppl   369.68\n",
            "| epoch   2 |   800/ 1422 batches | lr 20.00 | ms/batch 12.67 | loss  5.96 | ppl   386.22\n",
            "| epoch   2 |  1000/ 1422 batches | lr 20.00 | ms/batch 12.70 | loss  6.06 | ppl   428.15\n"
          ]
        }
      ],
      "source": [
        "!cd rnn && python main.py --cuda --model_file \"$GDRIVE_DIR/ptb_model.pt\" \\\n",
        "    --epochs 40 \\\n",
        "    --vocab_file \"$GDRIVE_DIR/ptb_vocab.txt\" \\\n",
        "    --tied --data_dir \"$GDRIVE_DIR/corpus_data\" --trainfname ptb_tok_train.txt --validfname ptb_tok_dev.txt"
      ]
    },
    {
      "cell_type": "markdown",
      "metadata": {
        "id": "Hg-ePSJyTSso"
      },
      "source": [
        "## Compute surprisals\n",
        "\n",
        "Now we'll compute model surprisals for the text data in `brown.txt` (already downloaded for you). This will output a file called `rnn_surprisals.tsv` to your Google Drive, which you'll use in the next steps of the analysis.\n",
        "\n",
        "We'll load the checkpoint and use it to extract per-token surprisal estimates."
      ]
    },
    {
      "cell_type": "code",
      "execution_count": null,
      "metadata": {
        "id": "_7-kbO7aeQxt"
      },
      "outputs": [],
      "source": [
        "checkpoint_to_use = f\"{GDRIVE_DIR}/ptb_model.pt\""
      ]
    },
    {
      "cell_type": "code",
      "execution_count": null,
      "metadata": {
        "colab": {
          "base_uri": "https://localhost:8080/"
        },
        "id": "o_lmhZ1AM53E",
        "outputId": "2d49a01c-d917-4066-bdc3-76e225ffa34d"
      },
      "outputs": [
        {
          "output_type": "stream",
          "name": "stdout",
          "text": [
            "Libraries loaded\n",
            "Using beamsize: 23757\n"
          ]
        }
      ],
      "source": [
        "\n",
        "!cd rnn && python main.py --cuda --model_file \"$checkpoint_to_use\" \\\n",
        "    --vocab_file '$GDRIVE_DIR/ptb_vocab.txt' --data_dir './data' \\\n",
        "    --testfname 'brown.txt' --test --words --nopp > '$GDRIVE_DIR/rnn_surprisals.tsv'\n"
      ]
    },
    {
      "cell_type": "markdown",
      "metadata": {
        "id": "iZQgvEMNrtyt"
      },
      "source": [
        "Cool, let's check that the surprisal output looks right. (Compare with the ngram model surprisals from before.)"
      ]
    },
    {
      "cell_type": "code",
      "execution_count": null,
      "metadata": {
        "colab": {
          "base_uri": "https://localhost:8080/",
          "height": 423
        },
        "id": "rBNCfCMyerkl",
        "outputId": "a4d240ca-599d-4be9-8cf0-4a5f8b9e266f"
      },
      "outputs": [
        {
          "output_type": "execute_result",
          "data": {
            "text/plain": [
              "        word  sentid  sentpos  wlen       surp    entropy    entred\n",
              "0         In       0        0     2   5.055180   9.876316  0.000000\n",
              "1      <unk>       0        1     5   5.601390   7.263554  2.612762\n",
              "2     County       0        2     6  12.139956   6.840611  0.422943\n",
              "3      <unk>       0        3     5   5.869784   5.000396  1.840215\n",
              "4       near       0        4     4  12.134634   5.662076  0.000000\n",
              "...      ...     ...      ...   ...        ...        ...       ...\n",
              "7229      as     363       15     2   6.210941   3.786661  4.894027\n",
              "7230       a     363       16     1   2.533581   7.909486  0.000000\n",
              "7231  leader     363       17     6  10.726473  11.061970  0.000000\n",
              "7232     and     363       18     3   4.907414   5.541063  5.520907\n",
              "7233   <unk>     363       19     5   4.531088  10.854429  0.000000\n",
              "\n",
              "[7234 rows x 7 columns]"
            ],
            "text/html": [
              "\n",
              "  <div id=\"df-9fe56e3a-6901-4a25-89a7-d0fe147d0b1d\">\n",
              "    <div class=\"colab-df-container\">\n",
              "      <div>\n",
              "<style scoped>\n",
              "    .dataframe tbody tr th:only-of-type {\n",
              "        vertical-align: middle;\n",
              "    }\n",
              "\n",
              "    .dataframe tbody tr th {\n",
              "        vertical-align: top;\n",
              "    }\n",
              "\n",
              "    .dataframe thead th {\n",
              "        text-align: right;\n",
              "    }\n",
              "</style>\n",
              "<table border=\"1\" class=\"dataframe\">\n",
              "  <thead>\n",
              "    <tr style=\"text-align: right;\">\n",
              "      <th></th>\n",
              "      <th>word</th>\n",
              "      <th>sentid</th>\n",
              "      <th>sentpos</th>\n",
              "      <th>wlen</th>\n",
              "      <th>surp</th>\n",
              "      <th>entropy</th>\n",
              "      <th>entred</th>\n",
              "    </tr>\n",
              "  </thead>\n",
              "  <tbody>\n",
              "    <tr>\n",
              "      <th>0</th>\n",
              "      <td>In</td>\n",
              "      <td>0</td>\n",
              "      <td>0</td>\n",
              "      <td>2</td>\n",
              "      <td>5.055180</td>\n",
              "      <td>9.876316</td>\n",
              "      <td>0.000000</td>\n",
              "    </tr>\n",
              "    <tr>\n",
              "      <th>1</th>\n",
              "      <td>&lt;unk&gt;</td>\n",
              "      <td>0</td>\n",
              "      <td>1</td>\n",
              "      <td>5</td>\n",
              "      <td>5.601390</td>\n",
              "      <td>7.263554</td>\n",
              "      <td>2.612762</td>\n",
              "    </tr>\n",
              "    <tr>\n",
              "      <th>2</th>\n",
              "      <td>County</td>\n",
              "      <td>0</td>\n",
              "      <td>2</td>\n",
              "      <td>6</td>\n",
              "      <td>12.139956</td>\n",
              "      <td>6.840611</td>\n",
              "      <td>0.422943</td>\n",
              "    </tr>\n",
              "    <tr>\n",
              "      <th>3</th>\n",
              "      <td>&lt;unk&gt;</td>\n",
              "      <td>0</td>\n",
              "      <td>3</td>\n",
              "      <td>5</td>\n",
              "      <td>5.869784</td>\n",
              "      <td>5.000396</td>\n",
              "      <td>1.840215</td>\n",
              "    </tr>\n",
              "    <tr>\n",
              "      <th>4</th>\n",
              "      <td>near</td>\n",
              "      <td>0</td>\n",
              "      <td>4</td>\n",
              "      <td>4</td>\n",
              "      <td>12.134634</td>\n",
              "      <td>5.662076</td>\n",
              "      <td>0.000000</td>\n",
              "    </tr>\n",
              "    <tr>\n",
              "      <th>...</th>\n",
              "      <td>...</td>\n",
              "      <td>...</td>\n",
              "      <td>...</td>\n",
              "      <td>...</td>\n",
              "      <td>...</td>\n",
              "      <td>...</td>\n",
              "      <td>...</td>\n",
              "    </tr>\n",
              "    <tr>\n",
              "      <th>7229</th>\n",
              "      <td>as</td>\n",
              "      <td>363</td>\n",
              "      <td>15</td>\n",
              "      <td>2</td>\n",
              "      <td>6.210941</td>\n",
              "      <td>3.786661</td>\n",
              "      <td>4.894027</td>\n",
              "    </tr>\n",
              "    <tr>\n",
              "      <th>7230</th>\n",
              "      <td>a</td>\n",
              "      <td>363</td>\n",
              "      <td>16</td>\n",
              "      <td>1</td>\n",
              "      <td>2.533581</td>\n",
              "      <td>7.909486</td>\n",
              "      <td>0.000000</td>\n",
              "    </tr>\n",
              "    <tr>\n",
              "      <th>7231</th>\n",
              "      <td>leader</td>\n",
              "      <td>363</td>\n",
              "      <td>17</td>\n",
              "      <td>6</td>\n",
              "      <td>10.726473</td>\n",
              "      <td>11.061970</td>\n",
              "      <td>0.000000</td>\n",
              "    </tr>\n",
              "    <tr>\n",
              "      <th>7232</th>\n",
              "      <td>and</td>\n",
              "      <td>363</td>\n",
              "      <td>18</td>\n",
              "      <td>3</td>\n",
              "      <td>4.907414</td>\n",
              "      <td>5.541063</td>\n",
              "      <td>5.520907</td>\n",
              "    </tr>\n",
              "    <tr>\n",
              "      <th>7233</th>\n",
              "      <td>&lt;unk&gt;</td>\n",
              "      <td>363</td>\n",
              "      <td>19</td>\n",
              "      <td>5</td>\n",
              "      <td>4.531088</td>\n",
              "      <td>10.854429</td>\n",
              "      <td>0.000000</td>\n",
              "    </tr>\n",
              "  </tbody>\n",
              "</table>\n",
              "<p>7234 rows × 7 columns</p>\n",
              "</div>\n",
              "      <button class=\"colab-df-convert\" onclick=\"convertToInteractive('df-9fe56e3a-6901-4a25-89a7-d0fe147d0b1d')\"\n",
              "              title=\"Convert this dataframe to an interactive table.\"\n",
              "              style=\"display:none;\">\n",
              "        \n",
              "  <svg xmlns=\"http://www.w3.org/2000/svg\" height=\"24px\"viewBox=\"0 0 24 24\"\n",
              "       width=\"24px\">\n",
              "    <path d=\"M0 0h24v24H0V0z\" fill=\"none\"/>\n",
              "    <path d=\"M18.56 5.44l.94 2.06.94-2.06 2.06-.94-2.06-.94-.94-2.06-.94 2.06-2.06.94zm-11 1L8.5 8.5l.94-2.06 2.06-.94-2.06-.94L8.5 2.5l-.94 2.06-2.06.94zm10 10l.94 2.06.94-2.06 2.06-.94-2.06-.94-.94-2.06-.94 2.06-2.06.94z\"/><path d=\"M17.41 7.96l-1.37-1.37c-.4-.4-.92-.59-1.43-.59-.52 0-1.04.2-1.43.59L10.3 9.45l-7.72 7.72c-.78.78-.78 2.05 0 2.83L4 21.41c.39.39.9.59 1.41.59.51 0 1.02-.2 1.41-.59l7.78-7.78 2.81-2.81c.8-.78.8-2.07 0-2.86zM5.41 20L4 18.59l7.72-7.72 1.47 1.35L5.41 20z\"/>\n",
              "  </svg>\n",
              "      </button>\n",
              "      \n",
              "  <style>\n",
              "    .colab-df-container {\n",
              "      display:flex;\n",
              "      flex-wrap:wrap;\n",
              "      gap: 12px;\n",
              "    }\n",
              "\n",
              "    .colab-df-convert {\n",
              "      background-color: #E8F0FE;\n",
              "      border: none;\n",
              "      border-radius: 50%;\n",
              "      cursor: pointer;\n",
              "      display: none;\n",
              "      fill: #1967D2;\n",
              "      height: 32px;\n",
              "      padding: 0 0 0 0;\n",
              "      width: 32px;\n",
              "    }\n",
              "\n",
              "    .colab-df-convert:hover {\n",
              "      background-color: #E2EBFA;\n",
              "      box-shadow: 0px 1px 2px rgba(60, 64, 67, 0.3), 0px 1px 3px 1px rgba(60, 64, 67, 0.15);\n",
              "      fill: #174EA6;\n",
              "    }\n",
              "\n",
              "    [theme=dark] .colab-df-convert {\n",
              "      background-color: #3B4455;\n",
              "      fill: #D2E3FC;\n",
              "    }\n",
              "\n",
              "    [theme=dark] .colab-df-convert:hover {\n",
              "      background-color: #434B5C;\n",
              "      box-shadow: 0px 1px 3px 1px rgba(0, 0, 0, 0.15);\n",
              "      filter: drop-shadow(0px 1px 2px rgba(0, 0, 0, 0.3));\n",
              "      fill: #FFFFFF;\n",
              "    }\n",
              "  </style>\n",
              "\n",
              "      <script>\n",
              "        const buttonEl =\n",
              "          document.querySelector('#df-9fe56e3a-6901-4a25-89a7-d0fe147d0b1d button.colab-df-convert');\n",
              "        buttonEl.style.display =\n",
              "          google.colab.kernel.accessAllowed ? 'block' : 'none';\n",
              "\n",
              "        async function convertToInteractive(key) {\n",
              "          const element = document.querySelector('#df-9fe56e3a-6901-4a25-89a7-d0fe147d0b1d');\n",
              "          const dataTable =\n",
              "            await google.colab.kernel.invokeFunction('convertToInteractive',\n",
              "                                                     [key], {});\n",
              "          if (!dataTable) return;\n",
              "\n",
              "          const docLinkHtml = 'Like what you see? Visit the ' +\n",
              "            '<a target=\"_blank\" href=https://colab.research.google.com/notebooks/data_table.ipynb>data table notebook</a>'\n",
              "            + ' to learn more about interactive tables.';\n",
              "          element.innerHTML = '';\n",
              "          dataTable['output_type'] = 'display_data';\n",
              "          await google.colab.output.renderOutput(dataTable, element);\n",
              "          const docLink = document.createElement('div');\n",
              "          docLink.innerHTML = docLinkHtml;\n",
              "          element.appendChild(docLink);\n",
              "        }\n",
              "      </script>\n",
              "    </div>\n",
              "  </div>\n",
              "  "
            ]
          },
          "metadata": {},
          "execution_count": 7
        }
      ],
      "source": [
        "import pandas as pd\n",
        "rnn_surprisals = pd.read_csv(f'{GDRIVE_DIR}/rnn_surprisals.tsv',sep=' ')\n",
        "rnn_surprisals"
      ]
    },
    {
      "cell_type": "markdown",
      "metadata": {
        "id": "0PknaMlKW07p"
      },
      "source": [
        "## Harmonize RNN surprisal and RT data"
      ]
    },
    {
      "cell_type": "markdown",
      "metadata": {
        "id": "psUdCeJysjGD"
      },
      "source": [
        "Load and align the reading times with the n-gram model surprisals.\n",
        "You may load the harmonized csv from Homework 2, or align it again.\n",
        "\n",
        "Finallyy, align the RNN model-derived surprisal values with human reading times. The harmonize function you wrote in Homework 2 may be helpful here too.\n",
        "\n",
        "Note, modifications may be required as the tokenization is not necessarily the same as the n-gram model. "
      ]
    },
    {
      "cell_type": "code",
      "execution_count": null,
      "metadata": {
        "id": "EUCKCUuTsg7H"
      },
      "outputs": [],
      "source": [
        "import pandas as pd\n",
        "\n",
        "harmonized_ngram = pd.read_csv(f'{GDRIVE_DIR}/harmonized_ngram.csv')\n",
        "reading_times = harmonized_ngram.iloc[:,2].values\n",
        "surprisals_ngram = harmonized_ngram.iloc[:,3].values"
      ]
    },
    {
      "cell_type": "code",
      "execution_count": null,
      "metadata": {
        "colab": {
          "base_uri": "https://localhost:8080/"
        },
        "id": "oT2XyjsL7GSj",
        "outputId": "92a65306-141a-4d56-b00b-e38e5c42308f"
      },
      "outputs": [
        {
          "output_type": "stream",
          "name": "stdout",
          "text": [
            "            word   code subject  text_id  text_pos  word_in_exp    time\n",
            "2286          In  17000    s001        0         0         2285  399.90\n",
            "109460        In  17000    s028        0         0         2503  290.32\n",
            "50709         In  17000    s014        0         0         1394  501.59\n",
            "80486         In  17000    s021        0         0         2525  210.93\n",
            "35626         In  17000    s010        0         0          579  862.35\n",
            "...          ...    ...     ...      ...       ...          ...     ...\n",
            "79391   captain.  35763    s021       12       763         1430  425.18\n",
            "116505  captain.  35763    s030       12       763         1489  383.32\n",
            "26975   captain.  35763    s007       12       763         3426  506.40\n",
            "15206   captain.  35763    s004       12       763         3528  669.29\n",
            "83386   captain.  35763    s022       12       763          763  304.40\n",
            "\n",
            "[136907 rows x 7 columns]\n"
          ]
        },
        {
          "output_type": "stream",
          "name": "stderr",
          "text": [
            "/usr/local/lib/python3.7/dist-packages/ipykernel_launcher.py:14: SettingWithCopyWarning: \n",
            "A value is trying to be set on a copy of a slice from a DataFrame\n",
            "\n",
            "See the caveats in the documentation: https://pandas.pydata.org/pandas-docs/stable/user_guide/indexing.html#returning-a-view-versus-a-copy\n",
            "  \n",
            "/usr/local/lib/python3.7/dist-packages/ipykernel_launcher.py:25: SettingWithCopyWarning: \n",
            "A value is trying to be set on a copy of a slice from a DataFrame\n",
            "\n",
            "See the caveats in the documentation: https://pandas.pydata.org/pandas-docs/stable/user_guide/indexing.html#returning-a-view-versus-a-copy\n"
          ]
        },
        {
          "output_type": "stream",
          "name": "stdout",
          "text": [
            "            word   code subject  text_id  text_pos  word_in_exp    time\n",
            "2286          In  17000    s001        0         0         2285  399.90\n",
            "109460        In  17000    s028        0         0         2503  290.32\n",
            "50709         In  17000    s014        0         0         1394  501.59\n",
            "80486         In  17000    s021        0         0         2525  210.93\n",
            "35626         In  17000    s010        0         0          579  862.35\n",
            "...          ...    ...     ...      ...       ...          ...     ...\n",
            "79391   captain.  35763    s021       12       763         1430  425.18\n",
            "116505  captain.  35763    s030       12       763         1489  383.32\n",
            "26975   captain.  35763    s007       12       763         3426  506.40\n",
            "15206   captain.  35763    s004       12       763         3528  669.29\n",
            "83386   captain.  35763    s022       12       763          763  304.40\n",
            "\n",
            "[136907 rows x 7 columns]\n"
          ]
        }
      ],
      "source": [
        "import string \n",
        "sprt = pd.read_csv('https://gist.githubusercontent.com/scaperex/01b55eab89b81dc882055e0d27d61016/raw/046dbb7f0586b5dc1a368ee882f2cb923caad3df/brown-spr-data-for-pset.csv', index_col=0).sort_values(by='code')\n",
        "\n",
        "\n",
        "def harmonize(rt_data: pd.DataFrame, surprs_data: pd.DataFrame) -> pd.DataFrame:\n",
        "      # clean data\n",
        "    surprs_data = surprs_data.copy()\n",
        "    surprs_data = surprs_data[(surprs_data.word != '</s>')]\n",
        "    surprs_data = surprs_data.reset_index()\n",
        "\n",
        "    for i in range(0, len(surprs_data['word'])):\n",
        "      word = surprs_data['word'][i]\n",
        "      cleaned_word = word.translate(str.maketrans('', '', string.punctuation))\n",
        "      surprs_data['word'][i]=cleaned_word\n",
        "    surprs_data = surprs_data[(surprs_data.word != '')]\n",
        "    surprs_data = surprs_data[(surprs_data.word != 'H')]\n",
        "    surprs_data = surprs_data.reset_index()\n",
        "    \n",
        "    rt_data = rt_data.sort_values(by=(['text_id','text_pos']))\n",
        "    rt_data = pd.DataFrame(rt_data.groupby(['text_id','text_pos','word'])['time'].mean()).reset_index()\n",
        "    for i in range(0, len(rt_data['word'])):\n",
        "      word = rt_data['word'][i]\n",
        "      cleaned_word = word.translate(str.maketrans('', '', string.punctuation))\n",
        "      if word != cleaned_word:\n",
        "        rt_data['word'][i] = cleaned_word\n",
        "\n",
        "    # join data\n",
        "    harmonized_data = rt_data.merge(surprs_data, left_index=True, right_index=True, how='inner')\n",
        "    harmonized_data = harmonized_data[(harmonized_data.word_y != 'unk')]\n",
        "    harmonized_data = harmonized_data[['word_x','time', 'surp']]\n",
        "    return harmonized_data\n",
        "\n",
        "print(sprt)\n",
        "harmonized_rnn = harmonize(sprt, rnn_surprisals)\n",
        "print(sprt)\n",
        "surprisals_rnn = harmonized_rnn.iloc[:,2].values"
      ]
    },
    {
      "cell_type": "markdown",
      "metadata": {
        "id": "DgFF4lLQtQzw"
      },
      "source": [
        "# Next Steps\n",
        "\n",
        "For the next steps, follow the PDF project instructions.\n",
        "\n",
        "Good luck!"
      ]
    },
    {
      "cell_type": "markdown",
      "metadata": {
        "id": "_oWjigtGEgZI"
      },
      "source": [
        "## Structured Tasks: Compare n-gram and RNN models"
      ]
    },
    {
      "cell_type": "markdown",
      "metadata": {
        "id": "2C1ljl9ED69F"
      },
      "source": [
        "# #1\n",
        "Which model has surprisal estimates which correlate better with human reading times?"
      ]
    },
    {
      "cell_type": "code",
      "execution_count": null,
      "metadata": {
        "colab": {
          "base_uri": "https://localhost:8080/"
        },
        "id": "igXKtGTdP5ys",
        "outputId": "84a93ab9-7959-418a-edaf-0f965a91eebe"
      },
      "outputs": [
        {
          "output_type": "stream",
          "name": "stderr",
          "text": [
            "/usr/local/lib/python3.7/dist-packages/statsmodels/tools/_testing.py:19: FutureWarning: pandas.util.testing is deprecated. Use the functions in the public API at pandas.testing instead.\n",
            "  import pandas.util.testing as tm\n"
          ]
        },
        {
          "output_type": "stream",
          "name": "stdout",
          "text": [
            "covariance of reading time and ngram: 0.05034859347280153\n",
            "covariance of reading time and rnn: 0.06316038392320165\n",
            "                            OLS Regression Results                            \n",
            "==============================================================================\n",
            "Dep. Variable:                      y   R-squared:                       0.004\n",
            "Model:                            OLS   Adj. R-squared:                  0.004\n",
            "Method:                 Least Squares   F-statistic:                     22.01\n",
            "Date:                Sun, 03 Jul 2022   Prob (F-statistic):           2.77e-06\n",
            "Time:                        19:22:52   Log-Likelihood:                -30415.\n",
            "No. Observations:                5498   AIC:                         6.083e+04\n",
            "Df Residuals:                    5496   BIC:                         6.085e+04\n",
            "Df Model:                           1                                         \n",
            "Covariance Type:            nonrobust                                         \n",
            "==============================================================================\n",
            "                 coef    std err          t      P>|t|      [0.025      0.975]\n",
            "------------------------------------------------------------------------------\n",
            "const        307.2319      1.808    169.895      0.000     303.687     310.777\n",
            "x1             0.8022      0.171      4.692      0.000       0.467       1.137\n",
            "==============================================================================\n",
            "Omnibus:                     3419.271   Durbin-Watson:                   1.294\n",
            "Prob(Omnibus):                  0.000   Jarque-Bera (JB):            59738.581\n",
            "Skew:                           2.673   Prob(JB):                         0.00\n",
            "Kurtosis:                      18.238   Cond. No.                         23.4\n",
            "==============================================================================\n",
            "\n",
            "Warnings:\n",
            "[1] Standard Errors assume that the covariance matrix of the errors is correctly specified.\n",
            "                            OLS Regression Results                            \n",
            "==============================================================================\n",
            "Dep. Variable:                      y   R-squared:                       0.003\n",
            "Model:                            OLS   Adj. R-squared:                  0.002\n",
            "Method:                 Least Squares   F-statistic:                     13.97\n",
            "Date:                Sun, 03 Jul 2022   Prob (F-statistic):           0.000188\n",
            "Time:                        19:22:52   Log-Likelihood:                -30419.\n",
            "No. Observations:                5498   AIC:                         6.084e+04\n",
            "Df Residuals:                    5496   BIC:                         6.086e+04\n",
            "Df Model:                           1                                         \n",
            "Covariance Type:            nonrobust                                         \n",
            "==============================================================================\n",
            "                 coef    std err          t      P>|t|      [0.025      0.975]\n",
            "------------------------------------------------------------------------------\n",
            "const        308.4424      1.887    163.493      0.000     304.744     312.141\n",
            "x1             0.6710      0.180      3.737      0.000       0.319       1.023\n",
            "==============================================================================\n",
            "Omnibus:                     3423.852   Durbin-Watson:                   1.292\n",
            "Prob(Omnibus):                  0.000   Jarque-Bera (JB):            59868.785\n",
            "Skew:                           2.678   Prob(JB):                         0.00\n",
            "Kurtosis:                      18.253   Cond. No.                         24.2\n",
            "==============================================================================\n",
            "\n",
            "Warnings:\n",
            "[1] Standard Errors assume that the covariance matrix of the errors is correctly specified.\n"
          ]
        }
      ],
      "source": [
        "import numpy as np\n",
        "import statsmodels.api as sm\n",
        "\n",
        "print(f'covariance of reading time and ngram: {np.corrcoef(reading_times, surprisals_ngram)[0, 1]}')\n",
        "print(f'covariance of reading time and rnn: {np.corrcoef(reading_times, surprisals_rnn)[0, 1]}')\n",
        "\n",
        "x = surprisals_rnn\n",
        "y = reading_times\n",
        "x = sm.add_constant(x)\n",
        "lin_model = sm.OLS(y, x)\n",
        "lin_model = lin_model.fit()\n",
        "print(lin_model.summary())\n",
        "\n",
        "x = surprisals_ngram\n",
        "y = reading_times\n",
        "x = sm.add_constant(x)\n",
        "lin_model = sm.OLS(y, x)\n",
        "lin_model = lin_model.fit()\n",
        "print(lin_model.summary())"
      ]
    },
    {
      "cell_type": "markdown",
      "metadata": {
        "id": "Ka1Ocx8ST-vR"
      },
      "source": [
        "the rnn surprisals correlate better with the human reading times."
      ]
    },
    {
      "cell_type": "markdown",
      "metadata": {
        "id": "i6KGo3gbEETN"
      },
      "source": [
        "# #2\n",
        "Plot the relationship between the n-gram model’s surprisal estimate for a word and\n",
        "the RNN’s estimate. Each point in the graph should correspond to a single token from\n",
        "the harmonized data. Describe what you see in this graph. Are the models generally\n",
        "well matched? On what parts of the surprisal spectrum do they disagree?"
      ]
    },
    {
      "cell_type": "code",
      "execution_count": null,
      "metadata": {
        "colab": {
          "base_uri": "https://localhost:8080/",
          "height": 282
        },
        "id": "7YXryAq2UFY3",
        "outputId": "aea740bc-f876-4965-baf9-25a552d97971"
      },
      "outputs": [
        {
          "output_type": "display_data",
          "data": {
            "text/plain": [
              "<Figure size 432x288 with 1 Axes>"
            ],
            "image/png": "[encoded data removed]"
          },
          "metadata": {
            "needs_background": "light"
          }
        }
      ],
      "source": [
        "import matplotlib.pyplot as plt\n",
        "\n",
        "plt.plot(surprisals_ngram, surprisals_rnn, 'o')\n",
        "plt.plot(np.linspace(0.0, 20.0, num=100), np.linspace(0.0, 20.0, num=100), label='y=x')\n",
        "plt.xlabel('ngram')\n",
        "plt.ylabel('rnn')\n",
        "plt.legend()\n",
        "plt.show()"
      ]
    },
    {
      "cell_type": "markdown",
      "metadata": {
        "id": "oumGu4PLZ8m7"
      },
      "source": [
        "Generaly speaking, the models are well matched.<br>\n",
        "The models seem to sometimes disagree on the [0, 10] interval of ngram surprisals.\n"
      ]
    },
    {
      "cell_type": "markdown",
      "metadata": {
        "id": "SEWgqhqZEKU_"
      },
      "source": [
        "# #3\n",
        "Pick specific interesting points from this graph (for example, points where the two\n",
        "models have very different surprisal estimates) and report the sentences containing the\n",
        "corresponding tokens. Why do you think the models should disagree?\n"
      ]
    },
    {
      "cell_type": "code",
      "execution_count": null,
      "metadata": {
        "id": "nK0FadfxeyCC"
      },
      "outputs": [],
      "source": [
        "import numpy as np\n",
        "\n",
        "w1 = \"enemies\"\n",
        "s1 = \"I state categorically that we shall under no circumstances resort to the use of such wepons unless they are first used by our enemies\"\n",
        "\n",
        "w2 = \"Hoawup\"\n",
        "s2 = \"Ben prime extended his stride until he could lay his goad across the noses of the Hoawup\"\n",
        "\n",
        "w3 = \"I\"\n",
        "s3 = \"In and out of the established and increasingly cold weather soon raised with the water cooled engine of their World War I tanks\""
      ]
    },
    {
      "cell_type": "markdown",
      "metadata": {
        "id": "b7bOEsuBEUn_"
      },
      "source": [
        "# #4\n",
        "Examine spillover in both models: look at the relationship between word probability\n",
        "and the next word’s reading time (a “spillover” effect). Is the effect similar as on the\n",
        "current word? Bigger? Smaller? Different shape? Are the spillover effects different\n",
        "across the two models?"
      ]
    },
    {
      "cell_type": "code",
      "execution_count": null,
      "metadata": {
        "id": "qb_uO9AvEayO"
      },
      "outputs": [],
      "source": [
        "mean={}\n",
        "count={}\n",
        "for i in range(harmonized_ngram.shape[0]):\n",
        "  s = harmonized_ngram['word'][i]\n",
        "  if s not in mean.keys():\n",
        "    mean[s] = reading_times[i]\n",
        "    count[s] = 1\n",
        "  else:\n",
        "    mean[s] += reading_times[i]\n",
        "    count[s] += 1\n",
        "for s in mean.keys():\n",
        "  mean[s] /= count[s]"
      ]
    },
    {
      "cell_type": "code",
      "execution_count": null,
      "metadata": {
        "colab": {
          "base_uri": "https://localhost:8080/",
          "height": 279
        },
        "id": "jSxASO3LfBXW",
        "outputId": "32d779a0-a617-4c40-8fdf-903b97bef367"
      },
      "outputs": [
        {
          "output_type": "display_data",
          "data": {
            "text/plain": [
              "<Figure size 432x288 with 1 Axes>"
            ],
            "image/png": "[encoded data removed]"
          },
          "metadata": {
            "needs_background": "light"
          }
        }
      ],
      "source": [
        "x1=[]\n",
        "x2=[]\n",
        "y=[]\n",
        "for i in range(1, harmonized_ngram.shape[0]):\n",
        "  a = reading_times[i] - mean[harmonized_ngram['word'][i]]\n",
        "  if a>200:\n",
        "    x1.append(surprisals_rnn[i-1])\n",
        "    x2.append(surprisals_ngram[i-1])\n",
        "    y.append(a)\n",
        "plt.plot(x1, y, 'o')\n",
        "plt.plot(x2, y, 'o')\n",
        "plt.xlabel('previous surprisal')\n",
        "plt.ylabel('reading time spillover')\n",
        "plt.show()\n"
      ]
    },
    {
      "cell_type": "code",
      "execution_count": null,
      "metadata": {
        "colab": {
          "base_uri": "https://localhost:8080/",
          "height": 279
        },
        "id": "gBTdhnNLfEZ5",
        "outputId": "6b2219b1-79e3-4b44-e5ae-d82c2b03696c"
      },
      "outputs": [
        {
          "output_type": "display_data",
          "data": {
            "text/plain": [
              "<Figure size 432x288 with 1 Axes>"
            ],
            "image/png": "[encoded data removed]"
          },
          "metadata": {
            "needs_background": "light"
          }
        }
      ],
      "source": [
        "x1=[]\n",
        "x2=[]\n",
        "y=[]\n",
        "for i in range(1, harmonized_ngram.shape[0]):\n",
        "  x1.append(1/2**surprisals_rnn[i-1])\n",
        "  x2.append(1/2**surprisals_ngram[i-1])\n",
        "  y.append(reading_times[i] - mean[harmonized_ngram['word'][i]])\n",
        "plt.plot(x1, y, 'o')\n",
        "plt.plot(x2, y, 'o')\n",
        "plt.xlabel('previous probability')\n",
        "plt.ylabel('reading time spillover')\n",
        "plt.show()"
      ]
    },
    {
      "cell_type": "markdown",
      "metadata": {
        "id": "b3TmJIAyCNNs"
      },
      "source": [
        "# Semi-structured Task #1\n",
        "Fit and plot the RT surprisal curve using a General Additive Model (GAM). The\n",
        "model should include control variables for log-frequency and word length. Examine\n",
        "both current word and spillover effects."
      ]
    },
    {
      "cell_type": "code",
      "execution_count": null,
      "metadata": {
        "colab": {
          "base_uri": "https://localhost:8080/"
        },
        "id": "iXHiv9qPCX5f",
        "outputId": "1ddbd020-b19f-4c3b-f27d-8608d415c9e1"
      },
      "outputs": [
        {
          "output_type": "stream",
          "name": "stdout",
          "text": [
            "Looking in indexes: https://pypi.org/simple, https://us-python.pkg.dev/colab-wheels/public/simple/\n",
            "Collecting pygam\n",
            "  Downloading pygam-0.8.0-py2.py3-none-any.whl (1.8 MB)\n",
            "\u001b[K     |████████████████████████████████| 1.8 MB 30.0 MB/s \n",
            "\u001b[?25hRequirement already satisfied: future in /usr/local/lib/python3.7/dist-packages (from pygam) (0.16.0)\n",
            "Requirement already satisfied: numpy in /usr/local/lib/python3.7/dist-packages (from pygam) (1.21.6)\n",
            "Requirement already satisfied: scipy in /usr/local/lib/python3.7/dist-packages (from pygam) (1.4.1)\n",
            "Requirement already satisfied: progressbar2 in /usr/local/lib/python3.7/dist-packages (from pygam) (3.38.0)\n",
            "Requirement already satisfied: six in /usr/local/lib/python3.7/dist-packages (from progressbar2->pygam) (1.15.0)\n",
            "Requirement already satisfied: python-utils>=2.3.0 in /usr/local/lib/python3.7/dist-packages (from progressbar2->pygam) (3.3.3)\n",
            "Installing collected packages: pygam\n",
            "Successfully installed pygam-0.8.0\n"
          ]
        }
      ],
      "source": [
        "!pip install pygam"
      ]
    },
    {
      "cell_type": "code",
      "execution_count": null,
      "metadata": {
        "colab": {
          "base_uri": "https://localhost:8080/",
          "height": 505
        },
        "id": "fC0nutJnITxW",
        "outputId": "f48882dc-a48b-4895-8b0b-0824e0964cc4"
      },
      "outputs": [
        {
          "output_type": "execute_result",
          "data": {
            "text/plain": [
              "      Unnamed: 0    word        time  surprisal   log_frq  word_len  \\\n",
              "0              0      In  380.275294    4.57937  2.564949         2   \n",
              "1              2  County  296.042941   12.65410  0.000000         6   \n",
              "2              4    near  403.553529   12.22380  1.609438         4   \n",
              "3              5     the  306.075882    1.98095  5.880533         3   \n",
              "4              6   River  289.048235   15.70900  1.609438         5   \n",
              "...          ...     ...         ...        ...       ...       ...   \n",
              "5493        7182  failed  292.772500    8.25341  0.000000         6   \n",
              "5494        7183      as  284.470833    9.42416  4.043051         2   \n",
              "5495        7184       a  282.622083    3.23962  4.875197         1   \n",
              "5496        7185  leader  279.445417   12.81650  0.693147         6   \n",
              "5497        7186     and  299.705000    5.90348  5.062595         3   \n",
              "\n",
              "      surprisal_rnn  prev_surp  \n",
              "0          5.055180   0.000000  \n",
              "1         12.139956   5.055180  \n",
              "2         12.134634  12.139956  \n",
              "3          1.783278  12.134634  \n",
              "4         15.958303   1.783278  \n",
              "...             ...        ...  \n",
              "5493       9.281180   4.865627  \n",
              "5494       6.210941   9.281180  \n",
              "5495       2.533581   6.210941  \n",
              "5496      10.726473   2.533581  \n",
              "5497       4.907414  10.726473  \n",
              "\n",
              "[5498 rows x 8 columns]"
            ],
            "text/html": [
              "\n",
              "  <div id=\"df-c5c12806-6037-4d94-b445-d7d23cbb910e\">\n",
              "    <div class=\"colab-df-container\">\n",
              "      <div>\n",
              "<style scoped>\n",
              "    .dataframe tbody tr th:only-of-type {\n",
              "        vertical-align: middle;\n",
              "    }\n",
              "\n",
              "    .dataframe tbody tr th {\n",
              "        vertical-align: top;\n",
              "    }\n",
              "\n",
              "    .dataframe thead th {\n",
              "        text-align: right;\n",
              "    }\n",
              "</style>\n",
              "<table border=\"1\" class=\"dataframe\">\n",
              "  <thead>\n",
              "    <tr style=\"text-align: right;\">\n",
              "      <th></th>\n",
              "      <th>Unnamed: 0</th>\n",
              "      <th>word</th>\n",
              "      <th>time</th>\n",
              "      <th>surprisal</th>\n",
              "      <th>log_frq</th>\n",
              "      <th>word_len</th>\n",
              "      <th>surprisal_rnn</th>\n",
              "      <th>prev_surp</th>\n",
              "    </tr>\n",
              "  </thead>\n",
              "  <tbody>\n",
              "    <tr>\n",
              "      <th>0</th>\n",
              "      <td>0</td>\n",
              "      <td>In</td>\n",
              "      <td>380.275294</td>\n",
              "      <td>4.57937</td>\n",
              "      <td>2.564949</td>\n",
              "      <td>2</td>\n",
              "      <td>5.055180</td>\n",
              "      <td>0.000000</td>\n",
              "    </tr>\n",
              "    <tr>\n",
              "      <th>1</th>\n",
              "      <td>2</td>\n",
              "      <td>County</td>\n",
              "      <td>296.042941</td>\n",
              "      <td>12.65410</td>\n",
              "      <td>0.000000</td>\n",
              "      <td>6</td>\n",
              "      <td>12.139956</td>\n",
              "      <td>5.055180</td>\n",
              "    </tr>\n",
              "    <tr>\n",
              "      <th>2</th>\n",
              "      <td>4</td>\n",
              "      <td>near</td>\n",
              "      <td>403.553529</td>\n",
              "      <td>12.22380</td>\n",
              "      <td>1.609438</td>\n",
              "      <td>4</td>\n",
              "      <td>12.134634</td>\n",
              "      <td>12.139956</td>\n",
              "    </tr>\n",
              "    <tr>\n",
              "      <th>3</th>\n",
              "      <td>5</td>\n",
              "      <td>the</td>\n",
              "      <td>306.075882</td>\n",
              "      <td>1.98095</td>\n",
              "      <td>5.880533</td>\n",
              "      <td>3</td>\n",
              "      <td>1.783278</td>\n",
              "      <td>12.134634</td>\n",
              "    </tr>\n",
              "    <tr>\n",
              "      <th>4</th>\n",
              "      <td>6</td>\n",
              "      <td>River</td>\n",
              "      <td>289.048235</td>\n",
              "      <td>15.70900</td>\n",
              "      <td>1.609438</td>\n",
              "      <td>5</td>\n",
              "      <td>15.958303</td>\n",
              "      <td>1.783278</td>\n",
              "    </tr>\n",
              "    <tr>\n",
              "      <th>...</th>\n",
              "      <td>...</td>\n",
              "      <td>...</td>\n",
              "      <td>...</td>\n",
              "      <td>...</td>\n",
              "      <td>...</td>\n",
              "      <td>...</td>\n",
              "      <td>...</td>\n",
              "      <td>...</td>\n",
              "    </tr>\n",
              "    <tr>\n",
              "      <th>5493</th>\n",
              "      <td>7182</td>\n",
              "      <td>failed</td>\n",
              "      <td>292.772500</td>\n",
              "      <td>8.25341</td>\n",
              "      <td>0.000000</td>\n",
              "      <td>6</td>\n",
              "      <td>9.281180</td>\n",
              "      <td>4.865627</td>\n",
              "    </tr>\n",
              "    <tr>\n",
              "      <th>5494</th>\n",
              "      <td>7183</td>\n",
              "      <td>as</td>\n",
              "      <td>284.470833</td>\n",
              "      <td>9.42416</td>\n",
              "      <td>4.043051</td>\n",
              "      <td>2</td>\n",
              "      <td>6.210941</td>\n",
              "      <td>9.281180</td>\n",
              "    </tr>\n",
              "    <tr>\n",
              "      <th>5495</th>\n",
              "      <td>7184</td>\n",
              "      <td>a</td>\n",
              "      <td>282.622083</td>\n",
              "      <td>3.23962</td>\n",
              "      <td>4.875197</td>\n",
              "      <td>1</td>\n",
              "      <td>2.533581</td>\n",
              "      <td>6.210941</td>\n",
              "    </tr>\n",
              "    <tr>\n",
              "      <th>5496</th>\n",
              "      <td>7185</td>\n",
              "      <td>leader</td>\n",
              "      <td>279.445417</td>\n",
              "      <td>12.81650</td>\n",
              "      <td>0.693147</td>\n",
              "      <td>6</td>\n",
              "      <td>10.726473</td>\n",
              "      <td>2.533581</td>\n",
              "    </tr>\n",
              "    <tr>\n",
              "      <th>5497</th>\n",
              "      <td>7186</td>\n",
              "      <td>and</td>\n",
              "      <td>299.705000</td>\n",
              "      <td>5.90348</td>\n",
              "      <td>5.062595</td>\n",
              "      <td>3</td>\n",
              "      <td>4.907414</td>\n",
              "      <td>10.726473</td>\n",
              "    </tr>\n",
              "  </tbody>\n",
              "</table>\n",
              "<p>5498 rows × 8 columns</p>\n",
              "</div>\n",
              "      <button class=\"colab-df-convert\" onclick=\"convertToInteractive('df-c5c12806-6037-4d94-b445-d7d23cbb910e')\"\n",
              "              title=\"Convert this dataframe to an interactive table.\"\n",
              "              style=\"display:none;\">\n",
              "        \n",
              "  <svg xmlns=\"http://www.w3.org/2000/svg\" height=\"24px\"viewBox=\"0 0 24 24\"\n",
              "       width=\"24px\">\n",
              "    <path d=\"M0 0h24v24H0V0z\" fill=\"none\"/>\n",
              "    <path d=\"M18.56 5.44l.94 2.06.94-2.06 2.06-.94-2.06-.94-.94-2.06-.94 2.06-2.06.94zm-11 1L8.5 8.5l.94-2.06 2.06-.94-2.06-.94L8.5 2.5l-.94 2.06-2.06.94zm10 10l.94 2.06.94-2.06 2.06-.94-2.06-.94-.94-2.06-.94 2.06-2.06.94z\"/><path d=\"M17.41 7.96l-1.37-1.37c-.4-.4-.92-.59-1.43-.59-.52 0-1.04.2-1.43.59L10.3 9.45l-7.72 7.72c-.78.78-.78 2.05 0 2.83L4 21.41c.39.39.9.59 1.41.59.51 0 1.02-.2 1.41-.59l7.78-7.78 2.81-2.81c.8-.78.8-2.07 0-2.86zM5.41 20L4 18.59l7.72-7.72 1.47 1.35L5.41 20z\"/>\n",
              "  </svg>\n",
              "      </button>\n",
              "      \n",
              "  <style>\n",
              "    .colab-df-container {\n",
              "      display:flex;\n",
              "      flex-wrap:wrap;\n",
              "      gap: 12px;\n",
              "    }\n",
              "\n",
              "    .colab-df-convert {\n",
              "      background-color: #E8F0FE;\n",
              "      border: none;\n",
              "      border-radius: 50%;\n",
              "      cursor: pointer;\n",
              "      display: none;\n",
              "      fill: #1967D2;\n",
              "      height: 32px;\n",
              "      padding: 0 0 0 0;\n",
              "      width: 32px;\n",
              "    }\n",
              "\n",
              "    .colab-df-convert:hover {\n",
              "      background-color: #E2EBFA;\n",
              "      box-shadow: 0px 1px 2px rgba(60, 64, 67, 0.3), 0px 1px 3px 1px rgba(60, 64, 67, 0.15);\n",
              "      fill: #174EA6;\n",
              "    }\n",
              "\n",
              "    [theme=dark] .colab-df-convert {\n",
              "      background-color: #3B4455;\n",
              "      fill: #D2E3FC;\n",
              "    }\n",
              "\n",
              "    [theme=dark] .colab-df-convert:hover {\n",
              "      background-color: #434B5C;\n",
              "      box-shadow: 0px 1px 3px 1px rgba(0, 0, 0, 0.15);\n",
              "      filter: drop-shadow(0px 1px 2px rgba(0, 0, 0, 0.3));\n",
              "      fill: #FFFFFF;\n",
              "    }\n",
              "  </style>\n",
              "\n",
              "      <script>\n",
              "        const buttonEl =\n",
              "          document.querySelector('#df-c5c12806-6037-4d94-b445-d7d23cbb910e button.colab-df-convert');\n",
              "        buttonEl.style.display =\n",
              "          google.colab.kernel.accessAllowed ? 'block' : 'none';\n",
              "\n",
              "        async function convertToInteractive(key) {\n",
              "          const element = document.querySelector('#df-c5c12806-6037-4d94-b445-d7d23cbb910e');\n",
              "          const dataTable =\n",
              "            await google.colab.kernel.invokeFunction('convertToInteractive',\n",
              "                                                     [key], {});\n",
              "          if (!dataTable) return;\n",
              "\n",
              "          const docLinkHtml = 'Like what you see? Visit the ' +\n",
              "            '<a target=\"_blank\" href=https://colab.research.google.com/notebooks/data_table.ipynb>data table notebook</a>'\n",
              "            + ' to learn more about interactive tables.';\n",
              "          element.innerHTML = '';\n",
              "          dataTable['output_type'] = 'display_data';\n",
              "          await google.colab.output.renderOutput(dataTable, element);\n",
              "          const docLink = document.createElement('div');\n",
              "          docLink.innerHTML = docLinkHtml;\n",
              "          element.appendChild(docLink);\n",
              "        }\n",
              "      </script>\n",
              "    </div>\n",
              "  </div>\n",
              "  "
            ]
          },
          "metadata": {},
          "execution_count": 18
        }
      ],
      "source": [
        "import math\n",
        "df = harmonized_ngram.copy()\n",
        "words = harmonized_ngram['word']\n",
        "log_freq_dict = {}\n",
        "for word in words:\n",
        "  if word in log_freq_dict:\n",
        "    log_freq_dict[word] += 1\n",
        "  else:\n",
        "    log_freq_dict[word] = 1\n",
        "s0=[]\n",
        "for word in log_freq_dict:\n",
        "  log_freq_dict[word] = math.log(log_freq_dict[word])\n",
        "for word in words:\n",
        "  s0.append(log_freq_dict[word])\n",
        "\n",
        "sur = harmonized_rnn['surp'].reset_index()\n",
        "s1=[]\n",
        "s1.append(0)\n",
        "for i in range(1, len(sur['surp'])):\n",
        "  s1.append(sur['surp'][i-1])\n",
        "df['log_frq'] = s0\n",
        "df['word_len'] = df['word'].apply(lambda x: len(x))\n",
        "df['surprisal_rnn'] = sur['surp']\n",
        "df['prev_surp']=s1\n",
        "df"
      ]
    },
    {
      "cell_type": "code",
      "execution_count": null,
      "metadata": {
        "colab": {
          "base_uri": "https://localhost:8080/",
          "height": 935
        },
        "id": "fw8ywC8aidvg",
        "outputId": "9337ac09-f004-4539-ca43-afa98e785520"
      },
      "outputs": [
        {
          "output_type": "stream",
          "name": "stdout",
          "text": [
            "LinearGAM                                                                                                 \n",
            "=============================================== ==========================================================\n",
            "Distribution:                        NormalDist Effective DoF:                                      26.981\n",
            "Link Function:                     IdentityLink Log Likelihood:                                -40037.1623\n",
            "Number of Samples:                         4398 AIC:                                            80130.2865\n",
            "                                                AICc:                                           80130.6578\n",
            "                                                GCV:                                              3624.653\n",
            "                                                Scale:                                           3584.6491\n",
            "                                                Pseudo R-Squared:                                   0.0714\n",
            "==========================================================================================================\n",
            "Feature Function                  Lambda               Rank         EDoF         P > x        Sig. Code   \n",
            "================================= ==================== ============ ============ ============ ============\n",
            "s(0)                              [0.6]                10           8.0          5.32e-07     ***         \n",
            "s(1)                              [0.6]                10           6.7          1.44e-15     ***         \n",
            "s(2)                              [0.6]                10           6.2          4.45e-09     ***         \n",
            "s(3)                              [0.6]                10           6.1          3.29e-02     *           \n",
            "intercept                                              1            0.0          1.11e-16     ***         \n",
            "==========================================================================================================\n",
            "Significance codes:  0 '***' 0.001 '**' 0.01 '*' 0.05 '.' 0.1 ' ' 1\n",
            "\n",
            "WARNING: Fitting splines and a linear function to a feature introduces a model identifiability problem\n",
            "         which can cause p-values to appear significant when they are not.\n",
            "\n",
            "WARNING: p-values calculated in this manner behave correctly for un-penalized models or models with\n",
            "         known smoothing parameters, but when smoothing parameters have been estimated, the p-values\n",
            "         are typically lower than they should be, meaning that the tests reject the null too readily.\n",
            "None\n"
          ]
        },
        {
          "output_type": "stream",
          "name": "stderr",
          "text": [
            "/usr/local/lib/python3.7/dist-packages/ipykernel_launcher.py:36: UserWarning: KNOWN BUG: p-values computed in this summary are likely much smaller than they should be. \n",
            " \n",
            "Please do not make inferences based on these values! \n",
            "\n",
            "Collaborate on a solution, and stay up to date at: \n",
            "github.com/dswah/pyGAM/issues/163 \n",
            "\n"
          ]
        },
        {
          "output_type": "display_data",
          "data": {
            "text/plain": [
              "<Figure size 432x288 with 0 Axes>"
            ]
          },
          "metadata": {}
        },
        {
          "output_type": "display_data",
          "data": {
            "text/plain": [
              "<Figure size 432x288 with 4 Axes>"
            ],
            "image/png": "[encoded data removed]"
          },
          "metadata": {
            "needs_background": "light"
          }
        }
      ],
      "source": [
        "from pygam import LinearGAM, s, f\n",
        "import numpy as np\n",
        "import matplotlib.pyplot as plt\n",
        "\n",
        "\n",
        "X = df.to_numpy()[:,4:8]\n",
        "y = df.time.values\n",
        "\n",
        "\"\"\"train_size = int(X.shape[0] * 0.8)\n",
        "test_size = X.shape[0] - train_size\n",
        "train_indices = np.random.randint(X.shape[0], size=train_size)\n",
        "test_indices = np.random.randint(X.shape[0], size=test_size)\n",
        "\n",
        "train_y = y[train_indices]\n",
        "test_y = y[test_indices]\n",
        "train_x = X[train_indices, :]\n",
        "test_x = X[test_indices, :]\"\"\"\n",
        "\n",
        "## model\n",
        "gam = LinearGAM(s(0, n_splines=10) + s(1, n_splines=10) + s(2, n_splines=10) + s(3, n_splines=10)).fit(X, y)\n",
        "\n",
        "\n",
        "## plotting\n",
        "plt.figure();\n",
        "fig, axs = plt.subplots(1,4);\n",
        "\n",
        "titles = ['log-frequency', 'word_length', 'surprisal', 'previous_surprisal']\n",
        "for i, ax in enumerate(axs):\n",
        "    XX = gam.generate_X_grid(term=i)\n",
        "    ax.plot(XX[:, i], gam.partial_dependence(term=i, X=XX))\n",
        "    ax.plot(XX[:, i], gam.partial_dependence(term=i, X=XX, width=.95)[1], c='r', ls='--')\n",
        "    if i == 0:\n",
        "        ax.set_ylim(-30,50)\n",
        "    ax.set_title(titles[i]);\n",
        "print(gam.summary())"
      ]
    },
    {
      "cell_type": "markdown",
      "metadata": {
        "id": "Po4JpxuTCaAG"
      },
      "source": [
        "# Semi-structured Task #3\n",
        "Train n-gram and RNN models on a larger dataset, such as Wikitext-2, Wikitext-103,\n",
        "and/or a still larger dataset (note that training larger models on Colab might require\n",
        "some careful checkpointing work), and see what happens to the relationship with RTs."
      ]
    },
    {
      "cell_type": "code",
      "execution_count": null,
      "metadata": {
        "colab": {
          "base_uri": "https://localhost:8080/"
        },
        "id": "nv9-cj2bCedt",
        "outputId": "a9da5198-42c8-473b-ed26-1c9db5ffbead"
      },
      "outputs": [
        {
          "output_type": "stream",
          "name": "stderr",
          "text": [
            "fatal: destination path 'rnn' already exists and is not an empty directory.\n"
          ]
        }
      ],
      "source": [
        "%%bash\n",
        "git clone https://github.com/scaperex/neural-complexity.git rnn\n",
        "mkdir -p rnn/data/ptb"
      ]
    },
    {
      "cell_type": "code",
      "execution_count": null,
      "metadata": {
        "colab": {
          "base_uri": "https://localhost:8080/"
        },
        "id": "TFTVMstqtr3C",
        "outputId": "c9ffaee6-d8c0-49d5-f0ef-8abd40115f22"
      },
      "outputs": [
        {
          "output_type": "stream",
          "name": "stdout",
          "text": [
            "Drive already mounted at /content/gdrive; to attempt to forcibly remount, call drive.mount(\"/content/gdrive\", force_remount=True).\n"
          ]
        }
      ],
      "source": [
        "from google.colab import drive\n",
        "drive.mount('/content/gdrive')"
      ]
    },
    {
      "cell_type": "code",
      "execution_count": null,
      "metadata": {
        "id": "XLaQmeTgtvWD"
      },
      "outputs": [],
      "source": [
        "GDRIVE_DIR = \"/content/gdrive/My Drive/096222_project_surprisals_and_rts\"\n",
        "!mkdir -p \"$GDRIVE_DIR\"\n",
        "!mkdir -p \"$GDRIVE_DIR/corpus_data\""
      ]
    },
    {
      "cell_type": "code",
      "execution_count": null,
      "metadata": {
        "id": "4QwXHOtctvTs"
      },
      "outputs": [],
      "source": [
        "!cp rnn/data/wikitext-2/* \"$GDRIVE_DIR/corpus_data/\""
      ]
    },
    {
      "cell_type": "code",
      "execution_count": null,
      "metadata": {
        "colab": {
          "base_uri": "https://localhost:8080/"
        },
        "id": "um1B__kGtvRW",
        "outputId": "a03885e3-0531-4b3d-ae6b-ec9ba6e09b77"
      },
      "outputs": [
        {
          "output_type": "stream",
          "name": "stdout",
          "text": [
            "Libraries loaded\n",
            "Traceback (most recent call last):\n",
            "  File \"main.py\", line 219, in <module>\n",
            "    testfname=args.testfname)\n",
            "  File \"/content/rnn/data.py\", line 46, in __init__\n",
            "    self.train = self.tokenize(os.path.join(path, trainfname))\n",
            "  File \"/content/rnn/data.py\", line 109, in tokenize\n",
            "    assert os.path.exists(path), \"Bad path: %s\" % path\n",
            "AssertionError: Bad path: /content/gdrive/My Drive/096222_project_surprisals_and_rts/corpus_data/train.txt\n"
          ]
        }
      ],
      "source": [
        "!cd rnn && python main.py --cuda --model_file \"$GDRIVE_DIR/ptb_model_wiki.pt\" \\\n",
        "    --epochs 64 \\\n",
        "    --vocab_file \"$GDRIVE_DIR/ptb_vocab_wiki.txt\" \\\n",
        "    --tied --data_dir \"$GDRIVE_DIR/corpus_data\" --trainfname train.txt --validfname valid.txt"
      ]
    },
    {
      "cell_type": "code",
      "execution_count": null,
      "metadata": {
        "id": "IHJqHgmEtvDR"
      },
      "outputs": [],
      "source": [
        "checkpoint_to_use = f\"{GDRIVE_DIR}/ptb_model_wiki.pt\""
      ]
    },
    {
      "cell_type": "code",
      "execution_count": null,
      "metadata": {
        "colab": {
          "base_uri": "https://localhost:8080/"
        },
        "id": "DIbuuVyauHCJ",
        "outputId": "fce837c9-1c2a-47d3-f04e-3e7d41af7a4c"
      },
      "outputs": [
        {
          "output_type": "stream",
          "name": "stdout",
          "text": [
            "Libraries loaded\n",
            "Using beamsize: 33278\n"
          ]
        }
      ],
      "source": [
        "!cd rnn && python main.py --cuda --model_file \"$checkpoint_to_use\" \\\n",
        "    --vocab_file '$GDRIVE_DIR/ptb_vocab_wiki.txt' --data_dir './data' \\\n",
        "    --testfname 'brown.txt' --test --words --nopp > '$GDRIVE_DIR/rnn_surprisals_wiki.tsv'"
      ]
    },
    {
      "cell_type": "code",
      "execution_count": null,
      "metadata": {
        "colab": {
          "base_uri": "https://localhost:8080/",
          "height": 423
        },
        "id": "P_wpmk4ouO_p",
        "outputId": "77ce2cf0-2436-472b-a96a-f8291e91a1ed"
      },
      "outputs": [
        {
          "output_type": "execute_result",
          "data": {
            "text/plain": [
              "        word  sentid  sentpos  wlen       surp    entropy    entred\n",
              "0         In       0        0     2   7.657288  10.470191  0.000000\n",
              "1      <unk>       0        1     5   5.165999   9.574603  0.895588\n",
              "2     County       0        2     6  10.197677   8.719383  0.855220\n",
              "3      <unk>       0        3     5   6.549869   6.384947  2.334436\n",
              "4       near       0        4     4  10.282216   7.603141  0.000000\n",
              "...      ...     ...      ...   ...        ...        ...       ...\n",
              "7229      as     363       15     2   6.909204   3.014119  5.042266\n",
              "7230       a     363       16     1   2.904558   8.334778  0.000000\n",
              "7231  leader     363       17     6  12.397602  11.548065  0.000000\n",
              "7232     and     363       18     3   5.803991   4.319426  7.228639\n",
              "7233   <unk>     363       19     5   4.443917  11.153049  0.000000\n",
              "\n",
              "[7234 rows x 7 columns]"
            ],
            "text/html": [
              "\n",
              "  <div id=\"df-5893cbcc-4c66-4ff8-b7c1-e3913fffe408\">\n",
              "    <div class=\"colab-df-container\">\n",
              "      <div>\n",
              "<style scoped>\n",
              "    .dataframe tbody tr th:only-of-type {\n",
              "        vertical-align: middle;\n",
              "    }\n",
              "\n",
              "    .dataframe tbody tr th {\n",
              "        vertical-align: top;\n",
              "    }\n",
              "\n",
              "    .dataframe thead th {\n",
              "        text-align: right;\n",
              "    }\n",
              "</style>\n",
              "<table border=\"1\" class=\"dataframe\">\n",
              "  <thead>\n",
              "    <tr style=\"text-align: right;\">\n",
              "      <th></th>\n",
              "      <th>word</th>\n",
              "      <th>sentid</th>\n",
              "      <th>sentpos</th>\n",
              "      <th>wlen</th>\n",
              "      <th>surp</th>\n",
              "      <th>entropy</th>\n",
              "      <th>entred</th>\n",
              "    </tr>\n",
              "  </thead>\n",
              "  <tbody>\n",
              "    <tr>\n",
              "      <th>0</th>\n",
              "      <td>In</td>\n",
              "      <td>0</td>\n",
              "      <td>0</td>\n",
              "      <td>2</td>\n",
              "      <td>7.657288</td>\n",
              "      <td>10.470191</td>\n",
              "      <td>0.000000</td>\n",
              "    </tr>\n",
              "    <tr>\n",
              "      <th>1</th>\n",
              "      <td>&lt;unk&gt;</td>\n",
              "      <td>0</td>\n",
              "      <td>1</td>\n",
              "      <td>5</td>\n",
              "      <td>5.165999</td>\n",
              "      <td>9.574603</td>\n",
              "      <td>0.895588</td>\n",
              "    </tr>\n",
              "    <tr>\n",
              "      <th>2</th>\n",
              "      <td>County</td>\n",
              "      <td>0</td>\n",
              "      <td>2</td>\n",
              "      <td>6</td>\n",
              "      <td>10.197677</td>\n",
              "      <td>8.719383</td>\n",
              "      <td>0.855220</td>\n",
              "    </tr>\n",
              "    <tr>\n",
              "      <th>3</th>\n",
              "      <td>&lt;unk&gt;</td>\n",
              "      <td>0</td>\n",
              "      <td>3</td>\n",
              "      <td>5</td>\n",
              "      <td>6.549869</td>\n",
              "      <td>6.384947</td>\n",
              "      <td>2.334436</td>\n",
              "    </tr>\n",
              "    <tr>\n",
              "      <th>4</th>\n",
              "      <td>near</td>\n",
              "      <td>0</td>\n",
              "      <td>4</td>\n",
              "      <td>4</td>\n",
              "      <td>10.282216</td>\n",
              "      <td>7.603141</td>\n",
              "      <td>0.000000</td>\n",
              "    </tr>\n",
              "    <tr>\n",
              "      <th>...</th>\n",
              "      <td>...</td>\n",
              "      <td>...</td>\n",
              "      <td>...</td>\n",
              "      <td>...</td>\n",
              "      <td>...</td>\n",
              "      <td>...</td>\n",
              "      <td>...</td>\n",
              "    </tr>\n",
              "    <tr>\n",
              "      <th>7229</th>\n",
              "      <td>as</td>\n",
              "      <td>363</td>\n",
              "      <td>15</td>\n",
              "      <td>2</td>\n",
              "      <td>6.909204</td>\n",
              "      <td>3.014119</td>\n",
              "      <td>5.042266</td>\n",
              "    </tr>\n",
              "    <tr>\n",
              "      <th>7230</th>\n",
              "      <td>a</td>\n",
              "      <td>363</td>\n",
              "      <td>16</td>\n",
              "      <td>1</td>\n",
              "      <td>2.904558</td>\n",
              "      <td>8.334778</td>\n",
              "      <td>0.000000</td>\n",
              "    </tr>\n",
              "    <tr>\n",
              "      <th>7231</th>\n",
              "      <td>leader</td>\n",
              "      <td>363</td>\n",
              "      <td>17</td>\n",
              "      <td>6</td>\n",
              "      <td>12.397602</td>\n",
              "      <td>11.548065</td>\n",
              "      <td>0.000000</td>\n",
              "    </tr>\n",
              "    <tr>\n",
              "      <th>7232</th>\n",
              "      <td>and</td>\n",
              "      <td>363</td>\n",
              "      <td>18</td>\n",
              "      <td>3</td>\n",
              "      <td>5.803991</td>\n",
              "      <td>4.319426</td>\n",
              "      <td>7.228639</td>\n",
              "    </tr>\n",
              "    <tr>\n",
              "      <th>7233</th>\n",
              "      <td>&lt;unk&gt;</td>\n",
              "      <td>363</td>\n",
              "      <td>19</td>\n",
              "      <td>5</td>\n",
              "      <td>4.443917</td>\n",
              "      <td>11.153049</td>\n",
              "      <td>0.000000</td>\n",
              "    </tr>\n",
              "  </tbody>\n",
              "</table>\n",
              "<p>7234 rows × 7 columns</p>\n",
              "</div>\n",
              "      <button class=\"colab-df-convert\" onclick=\"convertToInteractive('df-5893cbcc-4c66-4ff8-b7c1-e3913fffe408')\"\n",
              "              title=\"Convert this dataframe to an interactive table.\"\n",
              "              style=\"display:none;\">\n",
              "        \n",
              "  <svg xmlns=\"http://www.w3.org/2000/svg\" height=\"24px\"viewBox=\"0 0 24 24\"\n",
              "       width=\"24px\">\n",
              "    <path d=\"M0 0h24v24H0V0z\" fill=\"none\"/>\n",
              "    <path d=\"M18.56 5.44l.94 2.06.94-2.06 2.06-.94-2.06-.94-.94-2.06-.94 2.06-2.06.94zm-11 1L8.5 8.5l.94-2.06 2.06-.94-2.06-.94L8.5 2.5l-.94 2.06-2.06.94zm10 10l.94 2.06.94-2.06 2.06-.94-2.06-.94-.94-2.06-.94 2.06-2.06.94z\"/><path d=\"M17.41 7.96l-1.37-1.37c-.4-.4-.92-.59-1.43-.59-.52 0-1.04.2-1.43.59L10.3 9.45l-7.72 7.72c-.78.78-.78 2.05 0 2.83L4 21.41c.39.39.9.59 1.41.59.51 0 1.02-.2 1.41-.59l7.78-7.78 2.81-2.81c.8-.78.8-2.07 0-2.86zM5.41 20L4 18.59l7.72-7.72 1.47 1.35L5.41 20z\"/>\n",
              "  </svg>\n",
              "      </button>\n",
              "      \n",
              "  <style>\n",
              "    .colab-df-container {\n",
              "      display:flex;\n",
              "      flex-wrap:wrap;\n",
              "      gap: 12px;\n",
              "    }\n",
              "\n",
              "    .colab-df-convert {\n",
              "      background-color: #E8F0FE;\n",
              "      border: none;\n",
              "      border-radius: 50%;\n",
              "      cursor: pointer;\n",
              "      display: none;\n",
              "      fill: #1967D2;\n",
              "      height: 32px;\n",
              "      padding: 0 0 0 0;\n",
              "      width: 32px;\n",
              "    }\n",
              "\n",
              "    .colab-df-convert:hover {\n",
              "      background-color: #E2EBFA;\n",
              "      box-shadow: 0px 1px 2px rgba(60, 64, 67, 0.3), 0px 1px 3px 1px rgba(60, 64, 67, 0.15);\n",
              "      fill: #174EA6;\n",
              "    }\n",
              "\n",
              "    [theme=dark] .colab-df-convert {\n",
              "      background-color: #3B4455;\n",
              "      fill: #D2E3FC;\n",
              "    }\n",
              "\n",
              "    [theme=dark] .colab-df-convert:hover {\n",
              "      background-color: #434B5C;\n",
              "      box-shadow: 0px 1px 3px 1px rgba(0, 0, 0, 0.15);\n",
              "      filter: drop-shadow(0px 1px 2px rgba(0, 0, 0, 0.3));\n",
              "      fill: #FFFFFF;\n",
              "    }\n",
              "  </style>\n",
              "\n",
              "      <script>\n",
              "        const buttonEl =\n",
              "          document.querySelector('#df-5893cbcc-4c66-4ff8-b7c1-e3913fffe408 button.colab-df-convert');\n",
              "        buttonEl.style.display =\n",
              "          google.colab.kernel.accessAllowed ? 'block' : 'none';\n",
              "\n",
              "        async function convertToInteractive(key) {\n",
              "          const element = document.querySelector('#df-5893cbcc-4c66-4ff8-b7c1-e3913fffe408');\n",
              "          const dataTable =\n",
              "            await google.colab.kernel.invokeFunction('convertToInteractive',\n",
              "                                                     [key], {});\n",
              "          if (!dataTable) return;\n",
              "\n",
              "          const docLinkHtml = 'Like what you see? Visit the ' +\n",
              "            '<a target=\"_blank\" href=https://colab.research.google.com/notebooks/data_table.ipynb>data table notebook</a>'\n",
              "            + ' to learn more about interactive tables.';\n",
              "          element.innerHTML = '';\n",
              "          dataTable['output_type'] = 'display_data';\n",
              "          await google.colab.output.renderOutput(dataTable, element);\n",
              "          const docLink = document.createElement('div');\n",
              "          docLink.innerHTML = docLinkHtml;\n",
              "          element.appendChild(docLink);\n",
              "        }\n",
              "      </script>\n",
              "    </div>\n",
              "  </div>\n",
              "  "
            ]
          },
          "metadata": {},
          "execution_count": 29
        }
      ],
      "source": [
        "import pandas as pd\n",
        "rnn_surprisals_wiki = pd.read_csv(f'{GDRIVE_DIR}/rnn_surprisals_wiki.tsv',sep=' ')\n",
        "rnn_surprisals_wiki"
      ]
    },
    {
      "cell_type": "code",
      "execution_count": null,
      "metadata": {
        "colab": {
          "base_uri": "https://localhost:8080/",
          "height": 606
        },
        "id": "0B7JBQIGhhyJ",
        "outputId": "357764e6-9340-4dcb-ccb5-f51f5ff03822"
      },
      "outputs": [
        {
          "output_type": "stream",
          "name": "stderr",
          "text": [
            "/usr/local/lib/python3.7/dist-packages/ipykernel_launcher.py:14: SettingWithCopyWarning: \n",
            "A value is trying to be set on a copy of a slice from a DataFrame\n",
            "\n",
            "See the caveats in the documentation: https://pandas.pydata.org/pandas-docs/stable/user_guide/indexing.html#returning-a-view-versus-a-copy\n",
            "  \n",
            "/usr/local/lib/python3.7/dist-packages/ipykernel_launcher.py:25: SettingWithCopyWarning: \n",
            "A value is trying to be set on a copy of a slice from a DataFrame\n",
            "\n",
            "See the caveats in the documentation: https://pandas.pydata.org/pandas-docs/stable/user_guide/indexing.html#returning-a-view-versus-a-copy\n"
          ]
        },
        {
          "output_type": "execute_result",
          "data": {
            "text/plain": [
              "      word_x        time       surp\n",
              "0         In  380.275294   7.657288\n",
              "2     County  296.042941  10.197677\n",
              "4       near  403.553529  10.282216\n",
              "5        the  306.075882   1.540309\n",
              "6      River  289.048235  11.940998\n",
              "...      ...         ...        ...\n",
              "7182  failed  292.772500   9.237367\n",
              "7183      as  284.470833   6.909204\n",
              "7184       a  282.622083   2.904558\n",
              "7185  leader  279.445417  12.397602\n",
              "7186     and  299.705000   5.803991\n",
              "\n",
              "[5645 rows x 3 columns]"
            ],
            "text/html": [
              "\n",
              "  <div id=\"df-398a2ea7-700c-4955-be5a-8257d4aa54ef\">\n",
              "    <div class=\"colab-df-container\">\n",
              "      <div>\n",
              "<style scoped>\n",
              "    .dataframe tbody tr th:only-of-type {\n",
              "        vertical-align: middle;\n",
              "    }\n",
              "\n",
              "    .dataframe tbody tr th {\n",
              "        vertical-align: top;\n",
              "    }\n",
              "\n",
              "    .dataframe thead th {\n",
              "        text-align: right;\n",
              "    }\n",
              "</style>\n",
              "<table border=\"1\" class=\"dataframe\">\n",
              "  <thead>\n",
              "    <tr style=\"text-align: right;\">\n",
              "      <th></th>\n",
              "      <th>word_x</th>\n",
              "      <th>time</th>\n",
              "      <th>surp</th>\n",
              "    </tr>\n",
              "  </thead>\n",
              "  <tbody>\n",
              "    <tr>\n",
              "      <th>0</th>\n",
              "      <td>In</td>\n",
              "      <td>380.275294</td>\n",
              "      <td>7.657288</td>\n",
              "    </tr>\n",
              "    <tr>\n",
              "      <th>2</th>\n",
              "      <td>County</td>\n",
              "      <td>296.042941</td>\n",
              "      <td>10.197677</td>\n",
              "    </tr>\n",
              "    <tr>\n",
              "      <th>4</th>\n",
              "      <td>near</td>\n",
              "      <td>403.553529</td>\n",
              "      <td>10.282216</td>\n",
              "    </tr>\n",
              "    <tr>\n",
              "      <th>5</th>\n",
              "      <td>the</td>\n",
              "      <td>306.075882</td>\n",
              "      <td>1.540309</td>\n",
              "    </tr>\n",
              "    <tr>\n",
              "      <th>6</th>\n",
              "      <td>River</td>\n",
              "      <td>289.048235</td>\n",
              "      <td>11.940998</td>\n",
              "    </tr>\n",
              "    <tr>\n",
              "      <th>...</th>\n",
              "      <td>...</td>\n",
              "      <td>...</td>\n",
              "      <td>...</td>\n",
              "    </tr>\n",
              "    <tr>\n",
              "      <th>7182</th>\n",
              "      <td>failed</td>\n",
              "      <td>292.772500</td>\n",
              "      <td>9.237367</td>\n",
              "    </tr>\n",
              "    <tr>\n",
              "      <th>7183</th>\n",
              "      <td>as</td>\n",
              "      <td>284.470833</td>\n",
              "      <td>6.909204</td>\n",
              "    </tr>\n",
              "    <tr>\n",
              "      <th>7184</th>\n",
              "      <td>a</td>\n",
              "      <td>282.622083</td>\n",
              "      <td>2.904558</td>\n",
              "    </tr>\n",
              "    <tr>\n",
              "      <th>7185</th>\n",
              "      <td>leader</td>\n",
              "      <td>279.445417</td>\n",
              "      <td>12.397602</td>\n",
              "    </tr>\n",
              "    <tr>\n",
              "      <th>7186</th>\n",
              "      <td>and</td>\n",
              "      <td>299.705000</td>\n",
              "      <td>5.803991</td>\n",
              "    </tr>\n",
              "  </tbody>\n",
              "</table>\n",
              "<p>5645 rows × 3 columns</p>\n",
              "</div>\n",
              "      <button class=\"colab-df-convert\" onclick=\"convertToInteractive('df-398a2ea7-700c-4955-be5a-8257d4aa54ef')\"\n",
              "              title=\"Convert this dataframe to an interactive table.\"\n",
              "              style=\"display:none;\">\n",
              "        \n",
              "  <svg xmlns=\"http://www.w3.org/2000/svg\" height=\"24px\"viewBox=\"0 0 24 24\"\n",
              "       width=\"24px\">\n",
              "    <path d=\"M0 0h24v24H0V0z\" fill=\"none\"/>\n",
              "    <path d=\"M18.56 5.44l.94 2.06.94-2.06 2.06-.94-2.06-.94-.94-2.06-.94 2.06-2.06.94zm-11 1L8.5 8.5l.94-2.06 2.06-.94-2.06-.94L8.5 2.5l-.94 2.06-2.06.94zm10 10l.94 2.06.94-2.06 2.06-.94-2.06-.94-.94-2.06-.94 2.06-2.06.94z\"/><path d=\"M17.41 7.96l-1.37-1.37c-.4-.4-.92-.59-1.43-.59-.52 0-1.04.2-1.43.59L10.3 9.45l-7.72 7.72c-.78.78-.78 2.05 0 2.83L4 21.41c.39.39.9.59 1.41.59.51 0 1.02-.2 1.41-.59l7.78-7.78 2.81-2.81c.8-.78.8-2.07 0-2.86zM5.41 20L4 18.59l7.72-7.72 1.47 1.35L5.41 20z\"/>\n",
              "  </svg>\n",
              "      </button>\n",
              "      \n",
              "  <style>\n",
              "    .colab-df-container {\n",
              "      display:flex;\n",
              "      flex-wrap:wrap;\n",
              "      gap: 12px;\n",
              "    }\n",
              "\n",
              "    .colab-df-convert {\n",
              "      background-color: #E8F0FE;\n",
              "      border: none;\n",
              "      border-radius: 50%;\n",
              "      cursor: pointer;\n",
              "      display: none;\n",
              "      fill: #1967D2;\n",
              "      height: 32px;\n",
              "      padding: 0 0 0 0;\n",
              "      width: 32px;\n",
              "    }\n",
              "\n",
              "    .colab-df-convert:hover {\n",
              "      background-color: #E2EBFA;\n",
              "      box-shadow: 0px 1px 2px rgba(60, 64, 67, 0.3), 0px 1px 3px 1px rgba(60, 64, 67, 0.15);\n",
              "      fill: #174EA6;\n",
              "    }\n",
              "\n",
              "    [theme=dark] .colab-df-convert {\n",
              "      background-color: #3B4455;\n",
              "      fill: #D2E3FC;\n",
              "    }\n",
              "\n",
              "    [theme=dark] .colab-df-convert:hover {\n",
              "      background-color: #434B5C;\n",
              "      box-shadow: 0px 1px 3px 1px rgba(0, 0, 0, 0.15);\n",
              "      filter: drop-shadow(0px 1px 2px rgba(0, 0, 0, 0.3));\n",
              "      fill: #FFFFFF;\n",
              "    }\n",
              "  </style>\n",
              "\n",
              "      <script>\n",
              "        const buttonEl =\n",
              "          document.querySelector('#df-398a2ea7-700c-4955-be5a-8257d4aa54ef button.colab-df-convert');\n",
              "        buttonEl.style.display =\n",
              "          google.colab.kernel.accessAllowed ? 'block' : 'none';\n",
              "\n",
              "        async function convertToInteractive(key) {\n",
              "          const element = document.querySelector('#df-398a2ea7-700c-4955-be5a-8257d4aa54ef');\n",
              "          const dataTable =\n",
              "            await google.colab.kernel.invokeFunction('convertToInteractive',\n",
              "                                                     [key], {});\n",
              "          if (!dataTable) return;\n",
              "\n",
              "          const docLinkHtml = 'Like what you see? Visit the ' +\n",
              "            '<a target=\"_blank\" href=https://colab.research.google.com/notebooks/data_table.ipynb>data table notebook</a>'\n",
              "            + ' to learn more about interactive tables.';\n",
              "          element.innerHTML = '';\n",
              "          dataTable['output_type'] = 'display_data';\n",
              "          await google.colab.output.renderOutput(dataTable, element);\n",
              "          const docLink = document.createElement('div');\n",
              "          docLink.innerHTML = docLinkHtml;\n",
              "          element.appendChild(docLink);\n",
              "        }\n",
              "      </script>\n",
              "    </div>\n",
              "  </div>\n",
              "  "
            ]
          },
          "metadata": {},
          "execution_count": 31
        }
      ],
      "source": [
        "harmonized_rnn_wiki = harmonize(sprt, rnn_surprisals_wiki)\n",
        "harmonized_rnn_wiki"
      ]
    },
    {
      "cell_type": "code",
      "execution_count": null,
      "metadata": {
        "colab": {
          "base_uri": "https://localhost:8080/",
          "height": 423
        },
        "id": "Mp2ttSfw09Fd",
        "outputId": "9e87371e-bb3b-4b91-ffaf-723511a2652a"
      },
      "outputs": [
        {
          "output_type": "execute_result",
          "data": {
            "text/plain": [
              "     word_wiki   time_wiki  surp_wiki word_rnn    time_rnn   surp_rnn\n",
              "0           In  380.275294   7.657288       In  380.275294   5.055180\n",
              "2       County  296.042941  10.197677   County  296.042941  12.139956\n",
              "4         near  403.553529  10.282216     near  403.553529  12.134634\n",
              "5          the  306.075882   1.540309      the  306.075882   1.783278\n",
              "6        River  289.048235  11.940998    River  289.048235  15.958303\n",
              "...        ...         ...        ...      ...         ...        ...\n",
              "7182    failed  292.772500   9.237367   failed  292.772500   9.281180\n",
              "7183        as  284.470833   6.909204       as  284.470833   6.210941\n",
              "7184         a  282.622083   2.904558        a  282.622083   2.533581\n",
              "7185    leader  279.445417  12.397602   leader  279.445417  10.726473\n",
              "7186       and  299.705000   5.803991      and  299.705000   4.907414\n",
              "\n",
              "[5403 rows x 6 columns]"
            ],
            "text/html": [
              "\n",
              "  <div id=\"df-677135e5-536d-48c7-854c-b68fbb163c42\">\n",
              "    <div class=\"colab-df-container\">\n",
              "      <div>\n",
              "<style scoped>\n",
              "    .dataframe tbody tr th:only-of-type {\n",
              "        vertical-align: middle;\n",
              "    }\n",
              "\n",
              "    .dataframe tbody tr th {\n",
              "        vertical-align: top;\n",
              "    }\n",
              "\n",
              "    .dataframe thead th {\n",
              "        text-align: right;\n",
              "    }\n",
              "</style>\n",
              "<table border=\"1\" class=\"dataframe\">\n",
              "  <thead>\n",
              "    <tr style=\"text-align: right;\">\n",
              "      <th></th>\n",
              "      <th>word_wiki</th>\n",
              "      <th>time_wiki</th>\n",
              "      <th>surp_wiki</th>\n",
              "      <th>word_rnn</th>\n",
              "      <th>time_rnn</th>\n",
              "      <th>surp_rnn</th>\n",
              "    </tr>\n",
              "  </thead>\n",
              "  <tbody>\n",
              "    <tr>\n",
              "      <th>0</th>\n",
              "      <td>In</td>\n",
              "      <td>380.275294</td>\n",
              "      <td>7.657288</td>\n",
              "      <td>In</td>\n",
              "      <td>380.275294</td>\n",
              "      <td>5.055180</td>\n",
              "    </tr>\n",
              "    <tr>\n",
              "      <th>2</th>\n",
              "      <td>County</td>\n",
              "      <td>296.042941</td>\n",
              "      <td>10.197677</td>\n",
              "      <td>County</td>\n",
              "      <td>296.042941</td>\n",
              "      <td>12.139956</td>\n",
              "    </tr>\n",
              "    <tr>\n",
              "      <th>4</th>\n",
              "      <td>near</td>\n",
              "      <td>403.553529</td>\n",
              "      <td>10.282216</td>\n",
              "      <td>near</td>\n",
              "      <td>403.553529</td>\n",
              "      <td>12.134634</td>\n",
              "    </tr>\n",
              "    <tr>\n",
              "      <th>5</th>\n",
              "      <td>the</td>\n",
              "      <td>306.075882</td>\n",
              "      <td>1.540309</td>\n",
              "      <td>the</td>\n",
              "      <td>306.075882</td>\n",
              "      <td>1.783278</td>\n",
              "    </tr>\n",
              "    <tr>\n",
              "      <th>6</th>\n",
              "      <td>River</td>\n",
              "      <td>289.048235</td>\n",
              "      <td>11.940998</td>\n",
              "      <td>River</td>\n",
              "      <td>289.048235</td>\n",
              "      <td>15.958303</td>\n",
              "    </tr>\n",
              "    <tr>\n",
              "      <th>...</th>\n",
              "      <td>...</td>\n",
              "      <td>...</td>\n",
              "      <td>...</td>\n",
              "      <td>...</td>\n",
              "      <td>...</td>\n",
              "      <td>...</td>\n",
              "    </tr>\n",
              "    <tr>\n",
              "      <th>7182</th>\n",
              "      <td>failed</td>\n",
              "      <td>292.772500</td>\n",
              "      <td>9.237367</td>\n",
              "      <td>failed</td>\n",
              "      <td>292.772500</td>\n",
              "      <td>9.281180</td>\n",
              "    </tr>\n",
              "    <tr>\n",
              "      <th>7183</th>\n",
              "      <td>as</td>\n",
              "      <td>284.470833</td>\n",
              "      <td>6.909204</td>\n",
              "      <td>as</td>\n",
              "      <td>284.470833</td>\n",
              "      <td>6.210941</td>\n",
              "    </tr>\n",
              "    <tr>\n",
              "      <th>7184</th>\n",
              "      <td>a</td>\n",
              "      <td>282.622083</td>\n",
              "      <td>2.904558</td>\n",
              "      <td>a</td>\n",
              "      <td>282.622083</td>\n",
              "      <td>2.533581</td>\n",
              "    </tr>\n",
              "    <tr>\n",
              "      <th>7185</th>\n",
              "      <td>leader</td>\n",
              "      <td>279.445417</td>\n",
              "      <td>12.397602</td>\n",
              "      <td>leader</td>\n",
              "      <td>279.445417</td>\n",
              "      <td>10.726473</td>\n",
              "    </tr>\n",
              "    <tr>\n",
              "      <th>7186</th>\n",
              "      <td>and</td>\n",
              "      <td>299.705000</td>\n",
              "      <td>5.803991</td>\n",
              "      <td>and</td>\n",
              "      <td>299.705000</td>\n",
              "      <td>4.907414</td>\n",
              "    </tr>\n",
              "  </tbody>\n",
              "</table>\n",
              "<p>5403 rows × 6 columns</p>\n",
              "</div>\n",
              "      <button class=\"colab-df-convert\" onclick=\"convertToInteractive('df-677135e5-536d-48c7-854c-b68fbb163c42')\"\n",
              "              title=\"Convert this dataframe to an interactive table.\"\n",
              "              style=\"display:none;\">\n",
              "        \n",
              "  <svg xmlns=\"http://www.w3.org/2000/svg\" height=\"24px\"viewBox=\"0 0 24 24\"\n",
              "       width=\"24px\">\n",
              "    <path d=\"M0 0h24v24H0V0z\" fill=\"none\"/>\n",
              "    <path d=\"M18.56 5.44l.94 2.06.94-2.06 2.06-.94-2.06-.94-.94-2.06-.94 2.06-2.06.94zm-11 1L8.5 8.5l.94-2.06 2.06-.94-2.06-.94L8.5 2.5l-.94 2.06-2.06.94zm10 10l.94 2.06.94-2.06 2.06-.94-2.06-.94-.94-2.06-.94 2.06-2.06.94z\"/><path d=\"M17.41 7.96l-1.37-1.37c-.4-.4-.92-.59-1.43-.59-.52 0-1.04.2-1.43.59L10.3 9.45l-7.72 7.72c-.78.78-.78 2.05 0 2.83L4 21.41c.39.39.9.59 1.41.59.51 0 1.02-.2 1.41-.59l7.78-7.78 2.81-2.81c.8-.78.8-2.07 0-2.86zM5.41 20L4 18.59l7.72-7.72 1.47 1.35L5.41 20z\"/>\n",
              "  </svg>\n",
              "      </button>\n",
              "      \n",
              "  <style>\n",
              "    .colab-df-container {\n",
              "      display:flex;\n",
              "      flex-wrap:wrap;\n",
              "      gap: 12px;\n",
              "    }\n",
              "\n",
              "    .colab-df-convert {\n",
              "      background-color: #E8F0FE;\n",
              "      border: none;\n",
              "      border-radius: 50%;\n",
              "      cursor: pointer;\n",
              "      display: none;\n",
              "      fill: #1967D2;\n",
              "      height: 32px;\n",
              "      padding: 0 0 0 0;\n",
              "      width: 32px;\n",
              "    }\n",
              "\n",
              "    .colab-df-convert:hover {\n",
              "      background-color: #E2EBFA;\n",
              "      box-shadow: 0px 1px 2px rgba(60, 64, 67, 0.3), 0px 1px 3px 1px rgba(60, 64, 67, 0.15);\n",
              "      fill: #174EA6;\n",
              "    }\n",
              "\n",
              "    [theme=dark] .colab-df-convert {\n",
              "      background-color: #3B4455;\n",
              "      fill: #D2E3FC;\n",
              "    }\n",
              "\n",
              "    [theme=dark] .colab-df-convert:hover {\n",
              "      background-color: #434B5C;\n",
              "      box-shadow: 0px 1px 3px 1px rgba(0, 0, 0, 0.15);\n",
              "      filter: drop-shadow(0px 1px 2px rgba(0, 0, 0, 0.3));\n",
              "      fill: #FFFFFF;\n",
              "    }\n",
              "  </style>\n",
              "\n",
              "      <script>\n",
              "        const buttonEl =\n",
              "          document.querySelector('#df-677135e5-536d-48c7-854c-b68fbb163c42 button.colab-df-convert');\n",
              "        buttonEl.style.display =\n",
              "          google.colab.kernel.accessAllowed ? 'block' : 'none';\n",
              "\n",
              "        async function convertToInteractive(key) {\n",
              "          const element = document.querySelector('#df-677135e5-536d-48c7-854c-b68fbb163c42');\n",
              "          const dataTable =\n",
              "            await google.colab.kernel.invokeFunction('convertToInteractive',\n",
              "                                                     [key], {});\n",
              "          if (!dataTable) return;\n",
              "\n",
              "          const docLinkHtml = 'Like what you see? Visit the ' +\n",
              "            '<a target=\"_blank\" href=https://colab.research.google.com/notebooks/data_table.ipynb>data table notebook</a>'\n",
              "            + ' to learn more about interactive tables.';\n",
              "          element.innerHTML = '';\n",
              "          dataTable['output_type'] = 'display_data';\n",
              "          await google.colab.output.renderOutput(dataTable, element);\n",
              "          const docLink = document.createElement('div');\n",
              "          docLink.innerHTML = docLinkHtml;\n",
              "          element.appendChild(docLink);\n",
              "        }\n",
              "      </script>\n",
              "    </div>\n",
              "  </div>\n",
              "  "
            ]
          },
          "metadata": {},
          "execution_count": 32
        }
      ],
      "source": [
        "harmonized_rnn.columns = ['word_rnn', 'time_rnn', 'surp_rnn']\n",
        "harmonized_rnn_wiki.columns = ['word_wiki', 'time_wiki', 'surp_wiki']\n",
        "\n",
        "harmonized_rnn_wiki = pd.merge(harmonized_rnn_wiki, harmonized_rnn, left_index=True, right_index=True)\n",
        "reading_times_new = harmonized_rnn_wiki['time_wiki'].values\n",
        "surprisals_rnn_wiki = harmonized_rnn_wiki['surp_wiki'].values\n",
        "surprisals_rnn_new = harmonized_rnn_wiki['surp_rnn'].values\n",
        "harmonized_rnn_wiki"
      ]
    },
    {
      "cell_type": "code",
      "execution_count": null,
      "metadata": {
        "colab": {
          "base_uri": "https://localhost:8080/"
        },
        "id": "qRkgOCtqhxGJ",
        "outputId": "1a885f6c-1d25-40fc-f6af-425ecdb022e2"
      },
      "outputs": [
        {
          "output_type": "stream",
          "name": "stdout",
          "text": [
            "covariance of reading time and rnn: 0.06189967933808274\n",
            "covariance of reading time and rnn_wiki: 0.06064350392217411\n",
            "                            OLS Regression Results                            \n",
            "==============================================================================\n",
            "Dep. Variable:                      y   R-squared:                       0.004\n",
            "Model:                            OLS   Adj. R-squared:                  0.004\n",
            "Method:                 Least Squares   F-statistic:                     20.77\n",
            "Date:                Sun, 03 Jul 2022   Prob (F-statistic):           5.28e-06\n",
            "Time:                        19:26:40   Log-Likelihood:                -29896.\n",
            "No. Observations:                5403   AIC:                         5.980e+04\n",
            "Df Residuals:                    5401   BIC:                         5.981e+04\n",
            "Df Model:                           1                                         \n",
            "Covariance Type:            nonrobust                                         \n",
            "==============================================================================\n",
            "                 coef    std err          t      P>|t|      [0.025      0.975]\n",
            "------------------------------------------------------------------------------\n",
            "const        307.2051      1.828    168.066      0.000     303.622     310.788\n",
            "x1             0.7990      0.175      4.558      0.000       0.455       1.143\n",
            "==============================================================================\n",
            "Omnibus:                     3388.796   Durbin-Watson:                   1.309\n",
            "Prob(Omnibus):                  0.000   Jarque-Bera (JB):            60196.332\n",
            "Skew:                           2.698   Prob(JB):                         0.00\n",
            "Kurtosis:                      18.436   Cond. No.                         23.1\n",
            "==============================================================================\n",
            "\n",
            "Warnings:\n",
            "[1] Standard Errors assume that the covariance matrix of the errors is correctly specified.\n",
            "                            OLS Regression Results                            \n",
            "==============================================================================\n",
            "Dep. Variable:                      y   R-squared:                       0.004\n",
            "Model:                            OLS   Adj. R-squared:                  0.003\n",
            "Method:                 Least Squares   F-statistic:                     19.94\n",
            "Date:                Sun, 03 Jul 2022   Prob (F-statistic):           8.17e-06\n",
            "Time:                        19:26:40   Log-Likelihood:                -29896.\n",
            "No. Observations:                5403   AIC:                         5.980e+04\n",
            "Df Residuals:                    5401   BIC:                         5.981e+04\n",
            "Df Model:                           1                                         \n",
            "Covariance Type:            nonrobust                                         \n",
            "==============================================================================\n",
            "                 coef    std err          t      P>|t|      [0.025      0.975]\n",
            "------------------------------------------------------------------------------\n",
            "const        307.1081      1.878    163.570      0.000     303.427     310.789\n",
            "x1             0.8004      0.179      4.465      0.000       0.449       1.152\n",
            "==============================================================================\n",
            "Omnibus:                     3391.752   Durbin-Watson:                   1.306\n",
            "Prob(Omnibus):                  0.000   Jarque-Bera (JB):            60445.116\n",
            "Skew:                           2.701   Prob(JB):                         0.00\n",
            "Kurtosis:                      18.470   Cond. No.                         23.8\n",
            "==============================================================================\n",
            "\n",
            "Warnings:\n",
            "[1] Standard Errors assume that the covariance matrix of the errors is correctly specified.\n"
          ]
        }
      ],
      "source": [
        "import numpy as np\n",
        "\n",
        "print(f'covariance of reading time and rnn: {np.corrcoef(reading_times_new, surprisals_rnn_new)[0, 1]}')\n",
        "print(f'covariance of reading time and rnn_wiki: {np.corrcoef(reading_times_new, surprisals_rnn_wiki)[0, 1]}')\n",
        "\n",
        "x = surprisals_rnn_new\n",
        "y = reading_times_new\n",
        "x = sm.add_constant(x)\n",
        "lin_model = sm.OLS(y, x)\n",
        "lin_model = lin_model.fit()\n",
        "print(lin_model.summary())\n",
        "\n",
        "x = surprisals_rnn_wiki\n",
        "y = reading_times_new\n",
        "x = sm.add_constant(x)\n",
        "lin_model = sm.OLS(y, x)\n",
        "lin_model = lin_model.fit()\n",
        "print(lin_model.summary())\n"
      ]
    },
    {
      "cell_type": "markdown",
      "metadata": {
        "id": "drPBGu6ECe87"
      },
      "source": [
        "# Open-ended Task\n",
        "Devise and carry out an additional substantial analysis not listed above."
      ]
    },
    {
      "cell_type": "code",
      "source": [
        "%%bash\n",
        "git clone https://github.com/scaperex/neural-complexity.git rnn\n",
        "cd rnn\n",
        "git checkout tags/v1.1.0"
      ],
      "metadata": {
        "colab": {
          "base_uri": "https://localhost:8080/"
        },
        "id": "AvDQWm2aFlxu",
        "outputId": "52839f81-382d-4b52-813a-a987d9c972c2"
      },
      "execution_count": null,
      "outputs": [
        {
          "output_type": "stream",
          "name": "stderr",
          "text": [
            "fatal: destination path 'rnn' already exists and is not an empty directory.\n",
            "HEAD is now at 4b85c72 Merge pull request #3 from forrestdavis/master\n"
          ]
        }
      ]
    },
    {
      "cell_type": "code",
      "source": [
        "from google.colab import drive\n",
        "drive.mount('/content/gdrive')"
      ],
      "metadata": {
        "colab": {
          "base_uri": "https://localhost:8080/"
        },
        "id": "U7AI79w1kajj",
        "outputId": "3e4fca87-2cb6-466e-d5c9-c24b040d0db5"
      },
      "execution_count": null,
      "outputs": [
        {
          "output_type": "stream",
          "name": "stdout",
          "text": [
            "Drive already mounted at /content/gdrive; to attempt to forcibly remount, call drive.mount(\"/content/gdrive\", force_remount=True).\n"
          ]
        }
      ]
    },
    {
      "cell_type": "code",
      "source": [
        "GDRIVE_DIR = \"/content/gdrive/My Drive/096222_project_surprisals_and_rts\"\n",
        "!mkdir -p \"$GDRIVE_DIR\"\n",
        "!mkdir -p \"$GDRIVE_DIR/corpus_data\""
      ],
      "metadata": {
        "id": "bfNqxdPbG2eF"
      },
      "execution_count": null,
      "outputs": []
    },
    {
      "cell_type": "code",
      "source": [
        "checkpoint_to_use = f\"{GDRIVE_DIR}/hebrew_model.pt\""
      ],
      "metadata": {
        "id": "eJtS5kR_wuTw"
      },
      "execution_count": null,
      "outputs": []
    },
    {
      "cell_type": "code",
      "source": [
        "#!wget -qO GDRIVE_DIR/hebrew_model.pt https://dl.fbaipublicfiles.com/colorless-green-rnns/best-models/Hebrew/hidden650_batch64_dropout0.1_lr20.0.pt"
      ],
      "metadata": {
        "id": "1AbOlW44K7rF"
      },
      "execution_count": null,
      "outputs": []
    },
    {
      "cell_type": "code",
      "source": [
        "import nltk\n",
        "nltk.download('punkt')"
      ],
      "metadata": {
        "colab": {
          "base_uri": "https://localhost:8080/"
        },
        "id": "7lPCrt0SO8jt",
        "outputId": "3be35a9d-82fd-4f53-deae-547f989b9ce9"
      },
      "execution_count": null,
      "outputs": [
        {
          "output_type": "stream",
          "name": "stderr",
          "text": [
            "[nltk_data] Downloading package punkt to /root/nltk_data...\n",
            "[nltk_data]   Package punkt is already up-to-date!\n"
          ]
        },
        {
          "output_type": "execute_result",
          "data": {
            "text/plain": [
              "True"
            ]
          },
          "metadata": {},
          "execution_count": 53
        }
      ]
    },
    {
      "cell_type": "code",
      "source": [
        "!pip install inltk\n",
        "!pip install torch==1.3.1+cpu -f https://download.pytorch.org/whl/torch_stable.html"
      ],
      "metadata": {
        "id": "W9T4TKq-P9eO"
      },
      "execution_count": null,
      "outputs": []
    },
    {
      "cell_type": "code",
      "execution_count": null,
      "metadata": {
        "colab": {
          "base_uri": "https://localhost:8080/"
        },
        "id": "AUh5_UR6CwXO",
        "outputId": "8621cff8-e68f-45fa-e6b0-666d51c9676e"
      },
      "outputs": [
        {
          "output_type": "stream",
          "name": "stdout",
          "text": [
            "Libraries loaded\n",
            "Using beamsize: 50001\n"
          ]
        }
      ],
      "source": [
        "a1 = \"אני אוהב לאכול חתולים\"\n",
        "a2 = \"אני אוהב לאכול גלידה\"\n",
        "a3 = \"כשאף אחד לא באינקווזיציה\"\n",
        "a4 = \"כשאף אחד לא שומע\"\n",
        "a5 = \"אז הם ארזו חצי ארגז\"\n",
        "a6 = \"אז הם ארזו חצי מיקרופון\"\n",
        "a7 = \"עלו על אוטו למרכז\"\n",
        "a8 = \"עלו על אוטו למטוס\"\n",
        "b1 = \"אני אהבתי אוכל ירקות\"\n",
        "b2 = \"אני עכשיו אוכל ירקות\"\n",
        "b3 = \"הם לא כל כך יפים, אני יודע\"\n",
        "b4 = \"הם לא כל כך יפים, היא יודע\"\n",
        "b5 = \"ואין שום הרבה טעם לרוק\"\n",
        "b6 = \"ואין שום טעם לרוק\"\n",
        "b7 = \"אז רק תבואו למסיבה\"\n",
        "b8 = \"אז למה תבואו למסיבה\"\n",
        "\n",
        "sent1 = \"אני אוהב פיצה\"\n",
        "sent2 = \"הילדים אכלו פיצה\"\n",
        "\n",
        "!cd rnn && python main.py --model_file \"$checkpoint_to_use\" \\\n",
        "    --vocab_file '$GDRIVE_DIR/hebrew_vocab_test_2.txt' --data_dir '$GDRIVE_DIR' \\\n",
        "    --testfname 'hebrew_text.txt' --test --words --nopp > '$GDRIVE_DIR/hebrew_surprisals.tsv'"
      ]
    },
    {
      "cell_type": "code",
      "source": [
        "import pandas as pd\n",
        "hebrew_surprisals = pd.read_csv(f'{GDRIVE_DIR}/hebrew_surprisals.tsv',sep=' ')\n",
        "hebrew_surprisals"
      ],
      "metadata": {
        "id": "tW9JfrdVxkx3",
        "colab": {
          "base_uri": "https://localhost:8080/",
          "height": 143
        },
        "outputId": "408269a0-6165-44b7-a73c-94b266762384"
      },
      "execution_count": null,
      "outputs": [
        {
          "output_type": "execute_result",
          "data": {
            "text/plain": [
              "   word  sentid  sentpos  wlen       surp   entropy    entred\n",
              "0   אני       0        0     3  18.255554  4.973571  0.000000\n",
              "1  אוהב       0        1     4  23.498884  4.725500  0.248071\n",
              "2  פיצה       0        2     4  24.097258  7.035322  0.000000"
            ],
            "text/html": [
              "\n",
              "  <div id=\"df-b36e2576-2930-4a0d-855d-10cd490e3a39\">\n",
              "    <div class=\"colab-df-container\">\n",
              "      <div>\n",
              "<style scoped>\n",
              "    .dataframe tbody tr th:only-of-type {\n",
              "        vertical-align: middle;\n",
              "    }\n",
              "\n",
              "    .dataframe tbody tr th {\n",
              "        vertical-align: top;\n",
              "    }\n",
              "\n",
              "    .dataframe thead th {\n",
              "        text-align: right;\n",
              "    }\n",
              "</style>\n",
              "<table border=\"1\" class=\"dataframe\">\n",
              "  <thead>\n",
              "    <tr style=\"text-align: right;\">\n",
              "      <th></th>\n",
              "      <th>word</th>\n",
              "      <th>sentid</th>\n",
              "      <th>sentpos</th>\n",
              "      <th>wlen</th>\n",
              "      <th>surp</th>\n",
              "      <th>entropy</th>\n",
              "      <th>entred</th>\n",
              "    </tr>\n",
              "  </thead>\n",
              "  <tbody>\n",
              "    <tr>\n",
              "      <th>0</th>\n",
              "      <td>אני</td>\n",
              "      <td>0</td>\n",
              "      <td>0</td>\n",
              "      <td>3</td>\n",
              "      <td>18.255554</td>\n",
              "      <td>4.973571</td>\n",
              "      <td>0.000000</td>\n",
              "    </tr>\n",
              "    <tr>\n",
              "      <th>1</th>\n",
              "      <td>אוהב</td>\n",
              "      <td>0</td>\n",
              "      <td>1</td>\n",
              "      <td>4</td>\n",
              "      <td>23.498884</td>\n",
              "      <td>4.725500</td>\n",
              "      <td>0.248071</td>\n",
              "    </tr>\n",
              "    <tr>\n",
              "      <th>2</th>\n",
              "      <td>פיצה</td>\n",
              "      <td>0</td>\n",
              "      <td>2</td>\n",
              "      <td>4</td>\n",
              "      <td>24.097258</td>\n",
              "      <td>7.035322</td>\n",
              "      <td>0.000000</td>\n",
              "    </tr>\n",
              "  </tbody>\n",
              "</table>\n",
              "</div>\n",
              "      <button class=\"colab-df-convert\" onclick=\"convertToInteractive('df-b36e2576-2930-4a0d-855d-10cd490e3a39')\"\n",
              "              title=\"Convert this dataframe to an interactive table.\"\n",
              "              style=\"display:none;\">\n",
              "        \n",
              "  <svg xmlns=\"http://www.w3.org/2000/svg\" height=\"24px\"viewBox=\"0 0 24 24\"\n",
              "       width=\"24px\">\n",
              "    <path d=\"M0 0h24v24H0V0z\" fill=\"none\"/>\n",
              "    <path d=\"M18.56 5.44l.94 2.06.94-2.06 2.06-.94-2.06-.94-.94-2.06-.94 2.06-2.06.94zm-11 1L8.5 8.5l.94-2.06 2.06-.94-2.06-.94L8.5 2.5l-.94 2.06-2.06.94zm10 10l.94 2.06.94-2.06 2.06-.94-2.06-.94-.94-2.06-.94 2.06-2.06.94z\"/><path d=\"M17.41 7.96l-1.37-1.37c-.4-.4-.92-.59-1.43-.59-.52 0-1.04.2-1.43.59L10.3 9.45l-7.72 7.72c-.78.78-.78 2.05 0 2.83L4 21.41c.39.39.9.59 1.41.59.51 0 1.02-.2 1.41-.59l7.78-7.78 2.81-2.81c.8-.78.8-2.07 0-2.86zM5.41 20L4 18.59l7.72-7.72 1.47 1.35L5.41 20z\"/>\n",
              "  </svg>\n",
              "      </button>\n",
              "      \n",
              "  <style>\n",
              "    .colab-df-container {\n",
              "      display:flex;\n",
              "      flex-wrap:wrap;\n",
              "      gap: 12px;\n",
              "    }\n",
              "\n",
              "    .colab-df-convert {\n",
              "      background-color: #E8F0FE;\n",
              "      border: none;\n",
              "      border-radius: 50%;\n",
              "      cursor: pointer;\n",
              "      display: none;\n",
              "      fill: #1967D2;\n",
              "      height: 32px;\n",
              "      padding: 0 0 0 0;\n",
              "      width: 32px;\n",
              "    }\n",
              "\n",
              "    .colab-df-convert:hover {\n",
              "      background-color: #E2EBFA;\n",
              "      box-shadow: 0px 1px 2px rgba(60, 64, 67, 0.3), 0px 1px 3px 1px rgba(60, 64, 67, 0.15);\n",
              "      fill: #174EA6;\n",
              "    }\n",
              "\n",
              "    [theme=dark] .colab-df-convert {\n",
              "      background-color: #3B4455;\n",
              "      fill: #D2E3FC;\n",
              "    }\n",
              "\n",
              "    [theme=dark] .colab-df-convert:hover {\n",
              "      background-color: #434B5C;\n",
              "      box-shadow: 0px 1px 3px 1px rgba(0, 0, 0, 0.15);\n",
              "      filter: drop-shadow(0px 1px 2px rgba(0, 0, 0, 0.3));\n",
              "      fill: #FFFFFF;\n",
              "    }\n",
              "  </style>\n",
              "\n",
              "      <script>\n",
              "        const buttonEl =\n",
              "          document.querySelector('#df-b36e2576-2930-4a0d-855d-10cd490e3a39 button.colab-df-convert');\n",
              "        buttonEl.style.display =\n",
              "          google.colab.kernel.accessAllowed ? 'block' : 'none';\n",
              "\n",
              "        async function convertToInteractive(key) {\n",
              "          const element = document.querySelector('#df-b36e2576-2930-4a0d-855d-10cd490e3a39');\n",
              "          const dataTable =\n",
              "            await google.colab.kernel.invokeFunction('convertToInteractive',\n",
              "                                                     [key], {});\n",
              "          if (!dataTable) return;\n",
              "\n",
              "          const docLinkHtml = 'Like what you see? Visit the ' +\n",
              "            '<a target=\"_blank\" href=https://colab.research.google.com/notebooks/data_table.ipynb>data table notebook</a>'\n",
              "            + ' to learn more about interactive tables.';\n",
              "          element.innerHTML = '';\n",
              "          dataTable['output_type'] = 'display_data';\n",
              "          await google.colab.output.renderOutput(dataTable, element);\n",
              "          const docLink = document.createElement('div');\n",
              "          docLink.innerHTML = docLinkHtml;\n",
              "          element.appendChild(docLink);\n",
              "        }\n",
              "      </script>\n",
              "    </div>\n",
              "  </div>\n",
              "  "
            ]
          },
          "metadata": {},
          "execution_count": 57
        }
      ]
    },
    {
      "cell_type": "markdown",
      "source": [
        "# **Open Task 2**"
      ],
      "metadata": {
        "id": "fMe8HxRnBovk"
      }
    },
    {
      "cell_type": "code",
      "source": [
        "!cd rnn && python main.py --cuda --model_file \"$checkpoint_to_use\" \\\n",
        "    --vocab_file '$GDRIVE_DIR/ptb_vocab.txt' --data_dir './data' \\\n",
        "    --testfname 'othello.txt' --test --words --nopp > '$GDRIVE_DIR/othello_surprisals.tsv'\n",
        "\n",
        "othello_surprisals = pd.read_csv(f'{GDRIVE_DIR}/othello_surprisals.tsv',sep=' ')\n",
        "\n",
        "\n",
        "!cd rnn && python main.py --cuda --model_file \"$checkpoint_to_use\" \\\n",
        "    --vocab_file '$GDRIVE_DIR/ptb_vocab.txt' --data_dir './data' \\\n",
        "    --testfname 'blade_squadron.txt' --test --words --nopp > '$GDRIVE_DIR/blade_surprisals.tsv'\n",
        "\n",
        "blade_surprisals = pd.read_csv(f'{GDRIVE_DIR}/blade_surprisals.tsv',sep=' ')\n",
        "\n",
        "\n",
        "harmonized_othello = harmonize(sprt, othello_surprisals).reset_index()\n",
        "harmonized_blade = harmonize(sprt, blade_surprisals).reset_index()"
      ],
      "metadata": {
        "id": "4u0X_W75BoB7",
        "colab": {
          "base_uri": "https://localhost:8080/",
          "height": 648
        },
        "outputId": "726dcba0-9a10-4e76-dc62-825cf20ddbb0"
      },
      "execution_count": 60,
      "outputs": [
        {
          "output_type": "stream",
          "name": "stdout",
          "text": [
            "Libraries loaded\n",
            "Traceback (most recent call last):\n",
            "  File \"main.py\", line 608, in <module>\n",
            "    model = torch.load(f).to(device)\n",
            "  File \"/usr/local/lib/python3.7/dist-packages/torch/serialization.py\", line 426, in load\n",
            "    return _load(f, map_location, pickle_module, **pickle_load_args)\n",
            "  File \"/usr/local/lib/python3.7/dist-packages/torch/serialization.py\", line 613, in _load\n",
            "    result = unpickler.load()\n",
            "  File \"/usr/local/lib/python3.7/dist-packages/torch/serialization.py\", line 576, in persistent_load\n",
            "    deserialized_objects[root_key] = restore_location(obj, location)\n",
            "  File \"/usr/local/lib/python3.7/dist-packages/torch/serialization.py\", line 155, in default_restore_location\n",
            "    result = fn(storage, location)\n",
            "  File \"/usr/local/lib/python3.7/dist-packages/torch/serialization.py\", line 131, in _cuda_deserialize\n",
            "    device = validate_cuda_device(location)\n",
            "  File \"/usr/local/lib/python3.7/dist-packages/torch/serialization.py\", line 115, in validate_cuda_device\n",
            "    raise RuntimeError('Attempting to deserialize object on a CUDA '\n",
            "RuntimeError: Attempting to deserialize object on a CUDA device but torch.cuda.is_available() is False. If you are running on a CPU-only machine, please use torch.load with map_location=torch.device('cpu') to map your storages to the CPU.\n"
          ]
        },
        {
          "output_type": "error",
          "ename": "EmptyDataError",
          "evalue": "ignored",
          "traceback": [
            "\u001b[0;31m---------------------------------------------------------------------------\u001b[0m",
            "\u001b[0;31mEmptyDataError\u001b[0m                            Traceback (most recent call last)",
            "\u001b[0;32m<ipython-input-60-04d392168d05>\u001b[0m in \u001b[0;36m<module>\u001b[0;34m()\u001b[0m\n\u001b[1;32m      1\u001b[0m \u001b[0mget_ipython\u001b[0m\u001b[0;34m(\u001b[0m\u001b[0;34m)\u001b[0m\u001b[0;34m.\u001b[0m\u001b[0msystem\u001b[0m\u001b[0;34m(\u001b[0m\u001b[0;34m'cd rnn && python main.py --cuda --model_file \"$checkpoint_to_use\"     --vocab_file \\'$GDRIVE_DIR/ptb_vocab.txt\\' --data_dir \\'./data\\'     --testfname \\'othello.txt\\' --test --words --nopp > \\'$GDRIVE_DIR/othello_surprisals.tsv\\''\u001b[0m\u001b[0;34m)\u001b[0m\u001b[0;34m\u001b[0m\u001b[0;34m\u001b[0m\u001b[0m\n\u001b[1;32m      2\u001b[0m \u001b[0;34m\u001b[0m\u001b[0m\n\u001b[0;32m----> 3\u001b[0;31m \u001b[0mothello_surprisals\u001b[0m \u001b[0;34m=\u001b[0m \u001b[0mpd\u001b[0m\u001b[0;34m.\u001b[0m\u001b[0mread_csv\u001b[0m\u001b[0;34m(\u001b[0m\u001b[0;34mf'{GDRIVE_DIR}/othello_surprisals.tsv'\u001b[0m\u001b[0;34m,\u001b[0m\u001b[0msep\u001b[0m\u001b[0;34m=\u001b[0m\u001b[0;34m' '\u001b[0m\u001b[0;34m)\u001b[0m\u001b[0;34m\u001b[0m\u001b[0;34m\u001b[0m\u001b[0m\n\u001b[0m\u001b[1;32m      4\u001b[0m \u001b[0;34m\u001b[0m\u001b[0m\n\u001b[1;32m      5\u001b[0m \u001b[0;34m\u001b[0m\u001b[0m\n",
            "\u001b[0;32m/usr/local/lib/python3.7/dist-packages/pandas/util/_decorators.py\u001b[0m in \u001b[0;36mwrapper\u001b[0;34m(*args, **kwargs)\u001b[0m\n\u001b[1;32m    309\u001b[0m                     \u001b[0mstacklevel\u001b[0m\u001b[0;34m=\u001b[0m\u001b[0mstacklevel\u001b[0m\u001b[0;34m,\u001b[0m\u001b[0;34m\u001b[0m\u001b[0;34m\u001b[0m\u001b[0m\n\u001b[1;32m    310\u001b[0m                 )\n\u001b[0;32m--> 311\u001b[0;31m             \u001b[0;32mreturn\u001b[0m \u001b[0mfunc\u001b[0m\u001b[0;34m(\u001b[0m\u001b[0;34m*\u001b[0m\u001b[0margs\u001b[0m\u001b[0;34m,\u001b[0m \u001b[0;34m**\u001b[0m\u001b[0mkwargs\u001b[0m\u001b[0;34m)\u001b[0m\u001b[0;34m\u001b[0m\u001b[0;34m\u001b[0m\u001b[0m\n\u001b[0m\u001b[1;32m    312\u001b[0m \u001b[0;34m\u001b[0m\u001b[0m\n\u001b[1;32m    313\u001b[0m         \u001b[0;32mreturn\u001b[0m \u001b[0mwrapper\u001b[0m\u001b[0;34m\u001b[0m\u001b[0;34m\u001b[0m\u001b[0m\n",
            "\u001b[0;32m/usr/local/lib/python3.7/dist-packages/pandas/io/parsers/readers.py\u001b[0m in \u001b[0;36mread_csv\u001b[0;34m(filepath_or_buffer, sep, delimiter, header, names, index_col, usecols, squeeze, prefix, mangle_dupe_cols, dtype, engine, converters, true_values, false_values, skipinitialspace, skiprows, skipfooter, nrows, na_values, keep_default_na, na_filter, verbose, skip_blank_lines, parse_dates, infer_datetime_format, keep_date_col, date_parser, dayfirst, cache_dates, iterator, chunksize, compression, thousands, decimal, lineterminator, quotechar, quoting, doublequote, escapechar, comment, encoding, encoding_errors, dialect, error_bad_lines, warn_bad_lines, on_bad_lines, delim_whitespace, low_memory, memory_map, float_precision, storage_options)\u001b[0m\n\u001b[1;32m    584\u001b[0m     \u001b[0mkwds\u001b[0m\u001b[0;34m.\u001b[0m\u001b[0mupdate\u001b[0m\u001b[0;34m(\u001b[0m\u001b[0mkwds_defaults\u001b[0m\u001b[0;34m)\u001b[0m\u001b[0;34m\u001b[0m\u001b[0;34m\u001b[0m\u001b[0m\n\u001b[1;32m    585\u001b[0m \u001b[0;34m\u001b[0m\u001b[0m\n\u001b[0;32m--> 586\u001b[0;31m     \u001b[0;32mreturn\u001b[0m \u001b[0m_read\u001b[0m\u001b[0;34m(\u001b[0m\u001b[0mfilepath_or_buffer\u001b[0m\u001b[0;34m,\u001b[0m \u001b[0mkwds\u001b[0m\u001b[0;34m)\u001b[0m\u001b[0;34m\u001b[0m\u001b[0;34m\u001b[0m\u001b[0m\n\u001b[0m\u001b[1;32m    587\u001b[0m \u001b[0;34m\u001b[0m\u001b[0m\n\u001b[1;32m    588\u001b[0m \u001b[0;34m\u001b[0m\u001b[0m\n",
            "\u001b[0;32m/usr/local/lib/python3.7/dist-packages/pandas/io/parsers/readers.py\u001b[0m in \u001b[0;36m_read\u001b[0;34m(filepath_or_buffer, kwds)\u001b[0m\n\u001b[1;32m    480\u001b[0m \u001b[0;34m\u001b[0m\u001b[0m\n\u001b[1;32m    481\u001b[0m     \u001b[0;31m# Create the parser.\u001b[0m\u001b[0;34m\u001b[0m\u001b[0;34m\u001b[0m\u001b[0;34m\u001b[0m\u001b[0m\n\u001b[0;32m--> 482\u001b[0;31m     \u001b[0mparser\u001b[0m \u001b[0;34m=\u001b[0m \u001b[0mTextFileReader\u001b[0m\u001b[0;34m(\u001b[0m\u001b[0mfilepath_or_buffer\u001b[0m\u001b[0;34m,\u001b[0m \u001b[0;34m**\u001b[0m\u001b[0mkwds\u001b[0m\u001b[0;34m)\u001b[0m\u001b[0;34m\u001b[0m\u001b[0;34m\u001b[0m\u001b[0m\n\u001b[0m\u001b[1;32m    483\u001b[0m \u001b[0;34m\u001b[0m\u001b[0m\n\u001b[1;32m    484\u001b[0m     \u001b[0;32mif\u001b[0m \u001b[0mchunksize\u001b[0m \u001b[0;32mor\u001b[0m \u001b[0miterator\u001b[0m\u001b[0;34m:\u001b[0m\u001b[0;34m\u001b[0m\u001b[0;34m\u001b[0m\u001b[0m\n",
            "\u001b[0;32m/usr/local/lib/python3.7/dist-packages/pandas/io/parsers/readers.py\u001b[0m in \u001b[0;36m__init__\u001b[0;34m(self, f, engine, **kwds)\u001b[0m\n\u001b[1;32m    809\u001b[0m             \u001b[0mself\u001b[0m\u001b[0;34m.\u001b[0m\u001b[0moptions\u001b[0m\u001b[0;34m[\u001b[0m\u001b[0;34m\"has_index_names\"\u001b[0m\u001b[0;34m]\u001b[0m \u001b[0;34m=\u001b[0m \u001b[0mkwds\u001b[0m\u001b[0;34m[\u001b[0m\u001b[0;34m\"has_index_names\"\u001b[0m\u001b[0;34m]\u001b[0m\u001b[0;34m\u001b[0m\u001b[0;34m\u001b[0m\u001b[0m\n\u001b[1;32m    810\u001b[0m \u001b[0;34m\u001b[0m\u001b[0m\n\u001b[0;32m--> 811\u001b[0;31m         \u001b[0mself\u001b[0m\u001b[0;34m.\u001b[0m\u001b[0m_engine\u001b[0m \u001b[0;34m=\u001b[0m \u001b[0mself\u001b[0m\u001b[0;34m.\u001b[0m\u001b[0m_make_engine\u001b[0m\u001b[0;34m(\u001b[0m\u001b[0mself\u001b[0m\u001b[0;34m.\u001b[0m\u001b[0mengine\u001b[0m\u001b[0;34m)\u001b[0m\u001b[0;34m\u001b[0m\u001b[0;34m\u001b[0m\u001b[0m\n\u001b[0m\u001b[1;32m    812\u001b[0m \u001b[0;34m\u001b[0m\u001b[0m\n\u001b[1;32m    813\u001b[0m     \u001b[0;32mdef\u001b[0m \u001b[0mclose\u001b[0m\u001b[0;34m(\u001b[0m\u001b[0mself\u001b[0m\u001b[0;34m)\u001b[0m\u001b[0;34m:\u001b[0m\u001b[0;34m\u001b[0m\u001b[0;34m\u001b[0m\u001b[0m\n",
            "\u001b[0;32m/usr/local/lib/python3.7/dist-packages/pandas/io/parsers/readers.py\u001b[0m in \u001b[0;36m_make_engine\u001b[0;34m(self, engine)\u001b[0m\n\u001b[1;32m   1038\u001b[0m             )\n\u001b[1;32m   1039\u001b[0m         \u001b[0;31m# error: Too many arguments for \"ParserBase\"\u001b[0m\u001b[0;34m\u001b[0m\u001b[0;34m\u001b[0m\u001b[0;34m\u001b[0m\u001b[0m\n\u001b[0;32m-> 1040\u001b[0;31m         \u001b[0;32mreturn\u001b[0m \u001b[0mmapping\u001b[0m\u001b[0;34m[\u001b[0m\u001b[0mengine\u001b[0m\u001b[0;34m]\u001b[0m\u001b[0;34m(\u001b[0m\u001b[0mself\u001b[0m\u001b[0;34m.\u001b[0m\u001b[0mf\u001b[0m\u001b[0;34m,\u001b[0m \u001b[0;34m**\u001b[0m\u001b[0mself\u001b[0m\u001b[0;34m.\u001b[0m\u001b[0moptions\u001b[0m\u001b[0;34m)\u001b[0m  \u001b[0;31m# type: ignore[call-arg]\u001b[0m\u001b[0;34m\u001b[0m\u001b[0;34m\u001b[0m\u001b[0m\n\u001b[0m\u001b[1;32m   1041\u001b[0m \u001b[0;34m\u001b[0m\u001b[0m\n\u001b[1;32m   1042\u001b[0m     \u001b[0;32mdef\u001b[0m \u001b[0m_failover_to_python\u001b[0m\u001b[0;34m(\u001b[0m\u001b[0mself\u001b[0m\u001b[0;34m)\u001b[0m\u001b[0;34m:\u001b[0m\u001b[0;34m\u001b[0m\u001b[0;34m\u001b[0m\u001b[0m\n",
            "\u001b[0;32m/usr/local/lib/python3.7/dist-packages/pandas/io/parsers/c_parser_wrapper.py\u001b[0m in \u001b[0;36m__init__\u001b[0;34m(self, src, **kwds)\u001b[0m\n\u001b[1;32m     67\u001b[0m         \u001b[0mkwds\u001b[0m\u001b[0;34m[\u001b[0m\u001b[0;34m\"dtype\"\u001b[0m\u001b[0;34m]\u001b[0m \u001b[0;34m=\u001b[0m \u001b[0mensure_dtype_objs\u001b[0m\u001b[0;34m(\u001b[0m\u001b[0mkwds\u001b[0m\u001b[0;34m.\u001b[0m\u001b[0mget\u001b[0m\u001b[0;34m(\u001b[0m\u001b[0;34m\"dtype\"\u001b[0m\u001b[0;34m,\u001b[0m \u001b[0;32mNone\u001b[0m\u001b[0;34m)\u001b[0m\u001b[0;34m)\u001b[0m\u001b[0;34m\u001b[0m\u001b[0;34m\u001b[0m\u001b[0m\n\u001b[1;32m     68\u001b[0m         \u001b[0;32mtry\u001b[0m\u001b[0;34m:\u001b[0m\u001b[0;34m\u001b[0m\u001b[0;34m\u001b[0m\u001b[0m\n\u001b[0;32m---> 69\u001b[0;31m             \u001b[0mself\u001b[0m\u001b[0;34m.\u001b[0m\u001b[0m_reader\u001b[0m \u001b[0;34m=\u001b[0m \u001b[0mparsers\u001b[0m\u001b[0;34m.\u001b[0m\u001b[0mTextReader\u001b[0m\u001b[0;34m(\u001b[0m\u001b[0mself\u001b[0m\u001b[0;34m.\u001b[0m\u001b[0mhandles\u001b[0m\u001b[0;34m.\u001b[0m\u001b[0mhandle\u001b[0m\u001b[0;34m,\u001b[0m \u001b[0;34m**\u001b[0m\u001b[0mkwds\u001b[0m\u001b[0;34m)\u001b[0m\u001b[0;34m\u001b[0m\u001b[0;34m\u001b[0m\u001b[0m\n\u001b[0m\u001b[1;32m     70\u001b[0m         \u001b[0;32mexcept\u001b[0m \u001b[0mException\u001b[0m\u001b[0;34m:\u001b[0m\u001b[0;34m\u001b[0m\u001b[0;34m\u001b[0m\u001b[0m\n\u001b[1;32m     71\u001b[0m             \u001b[0mself\u001b[0m\u001b[0;34m.\u001b[0m\u001b[0mhandles\u001b[0m\u001b[0;34m.\u001b[0m\u001b[0mclose\u001b[0m\u001b[0;34m(\u001b[0m\u001b[0;34m)\u001b[0m\u001b[0;34m\u001b[0m\u001b[0;34m\u001b[0m\u001b[0m\n",
            "\u001b[0;32m/usr/local/lib/python3.7/dist-packages/pandas/_libs/parsers.pyx\u001b[0m in \u001b[0;36mpandas._libs.parsers.TextReader.__cinit__\u001b[0;34m()\u001b[0m\n",
            "\u001b[0;31mEmptyDataError\u001b[0m: No columns to parse from file"
          ]
        }
      ]
    },
    {
      "cell_type": "code",
      "source": [
        "mean1={}\n",
        "count1={}\n",
        "avg1=0\n",
        "avg12=0\n",
        "avg11=0\n",
        "for i in range(harmonized_blade.shape[0]):\n",
        "  avg1+=1\n",
        "  avg12+=harmonized_blade['surp'][i]*harmonized_blade['surp'][i]\n",
        "  avg11+=harmonized_blade['surp'][i]\n",
        "  s = harmonized_blade['word_y'][i]\n",
        "  if s not in mean1.keys():\n",
        "    mean1[s] = harmonized_blade['surp'][i]\n",
        "    count1[s] = 1\n",
        "  else:\n",
        "    mean1[s] += harmonized_blade['surp'][i]\n",
        "    count1[s] += 1\n",
        "for s in mean1.keys():\n",
        "  mean1[s] /= count1[s]\n",
        "\n",
        "mean2={}\n",
        "count2={}\n",
        "avg2=0\n",
        "avg22=0\n",
        "avg21=0\n",
        "for i in range(harmonized_othello.shape[0]):\n",
        "  avg2+=1\n",
        "  avg22+=harmonized_othello['surp'][i]*harmonized_othello['surp'][i]\n",
        "  avg21+=harmonized_othello['surp'][i]\n",
        "  s = harmonized_othello['word_y'][i]\n",
        "  if s not in mean2.keys():\n",
        "    mean2[s] = harmonized_othello['surp'][i]\n",
        "    count2[s] = 1\n",
        "  else:\n",
        "    mean2[s] += harmonized_othello['surp'][i]\n",
        "    count2[s] += 1\n",
        "for s in mean2.keys():\n",
        "  mean2[s] /= count2[s]\n",
        "\n",
        "avg12=avg12/avg1\n",
        "avg22=avg22/avg2\n",
        "avg1=avg11/avg1\n",
        "avg2=avg21/avg2\n",
        "print(avg1)\n",
        "print(avg2)\n",
        "print(avg12-avg1*avg1)\n",
        "print(avg22-avg2*avg2)"
      ],
      "metadata": {
        "id": "0x0yOmohB32j"
      },
      "execution_count": null,
      "outputs": []
    },
    {
      "cell_type": "code",
      "source": [
        "import matplotlib.pyplot as plt\n",
        "x1=[]\n",
        "x2=[]\n",
        "y=[]\n",
        "far=[]\n",
        "a=0\n",
        "b=0\n",
        "for i in range(harmonized_othello.shape[0]):\n",
        "  y.append(i)\n",
        "  a+=harmonized_blade['surp'][i]\n",
        "  b+=harmonized_othello['surp'][i]\n",
        "  x1.append(a)\n",
        "  x2.append(b)\n",
        "for i in mean2.keys():\n",
        "  if i in mean1.keys():\n",
        "    if (mean1[i]-mean2[i]>5) or (mean2[i]-mean1[i]>5):\n",
        "      far.append(i)\n",
        "plt.plot(y, x1, 'o')\n",
        "plt.plot(y, x2, 'o')\n",
        "plt.xlabel('Cumilative Surprisal')\n",
        "plt.ylabel('word in text')\n",
        "plt.show()\n",
        "print(far)"
      ],
      "metadata": {
        "id": "keNdkxlnB7_S"
      },
      "execution_count": null,
      "outputs": []
    },
    {
      "cell_type": "code",
      "source": [
        "import math\n",
        "df = harmonized_othello.copy()\n",
        "words = harmonized_othello['word_y']\n",
        "log_freq_dict = {}\n",
        "for word in words:\n",
        "  if word in log_freq_dict:\n",
        "    log_freq_dict[word] += 1\n",
        "  else:\n",
        "    log_freq_dict[word] = 1\n",
        "s0=[]\n",
        "for word in log_freq_dict:\n",
        "  log_freq_dict[word] = math.log(log_freq_dict[word])\n",
        "for word in words:\n",
        "  s0.append(log_freq_dict[word])\n",
        "\n",
        "df['log_frq'] = s0\n",
        "sur = harmonized_rnn['surp'].reset_index()\n",
        "df['word_len'] = df['word_y'].apply(lambda x: len(x))\n",
        "df['surprisal_rnn'] = sur['surp']"
      ],
      "metadata": {
        "id": "YDVuY5p-CRvb"
      },
      "execution_count": null,
      "outputs": []
    },
    {
      "cell_type": "code",
      "source": [
        "from pygam import LinearGAM, s, f\n",
        "import numpy as np\n",
        "\n",
        "\n",
        "X = df.to_numpy()[:,3:6]\n",
        "y = df.time.values\n",
        "\n",
        "train_size = int(X.shape[0] * 0.8)\n",
        "test_size = X.shape[0] - train_size\n",
        "train_indices = np.random.randint(X.shape[0], size=train_size)\n",
        "test_indices = np.random.randint(X.shape[0], size=test_size)\n",
        "\n",
        "train_y = y[train_indices]\n",
        "test_y = y[test_indices]\n",
        "train_x = X[train_indices, :]\n",
        "test_x = X[test_indices, :]\n",
        "\n",
        "## model\n",
        "gam = LinearGAM(s(0, n_splines=10) + s(1, n_splines=10) + s(2, n_splines=10)).fit(train_x, train_y)\n",
        "#gam.gridsearch(X, y)\n",
        "\n",
        "df = harmonized_blade.copy()\n",
        "words = harmonized_blade['word_y']\n",
        "log_freq_dict = {}\n",
        "for word in words:\n",
        "  if word in log_freq_dict:\n",
        "    log_freq_dict[word] += 1\n",
        "  else:\n",
        "    log_freq_dict[word] = 1\n",
        "s0=[]\n",
        "for word in log_freq_dict:\n",
        "  log_freq_dict[word] = math.log(log_freq_dict[word])\n",
        "for word in words:\n",
        "  s0.append(log_freq_dict[word])\n",
        "\n",
        "df['log_frq'] = s0\n",
        "sur = harmonized_rnn['surp'].reset_index()\n",
        "df['word_len'] = df['word_y'].apply(lambda x: len(x))\n",
        "df['surprisal_rnn'] = sur['surp']\n",
        "\n",
        "\n",
        "X2 = df.to_numpy()[:,3:6]\n",
        "y2 = df.time.values\n",
        "\n",
        "train_size2 = int(X2.shape[0] * 0.8)\n",
        "test_size2 = X2.shape[0] - train_size2\n",
        "train_indices2 = np.random.randint(X.shape[0], size=train_size2)\n",
        "test_indices2 = np.random.randint(X.shape[0], size=test_size2)\n",
        "\n",
        "train_y2 = y2[train_indices2]\n",
        "test_y2 = y2[test_indices2]\n",
        "train_x2 = X2[train_indices2, :]\n",
        "test_x2 = X2[test_indices2, :]\n",
        "\n",
        "## model\n",
        "gam2 = LinearGAM(s(0, n_splines=10) + s(1, n_splines=10) + s(2, n_splines=10)).fit(train_x2, train_y2)\n",
        "#gam.gridsearch(X, y)\n",
        "\n",
        "\n",
        "\n",
        "## plotting\n",
        "plt.figure();\n",
        "fig, axs = plt.subplots(1,3);\n",
        "\n",
        "titles = ['surprisal', 'log-frequency', 'word_length']\n",
        "for i, ax in enumerate(axs):\n",
        "    XX = gam.generate_X_grid(term=i)\n",
        "    ax.plot(XX[:, i], gam.partial_dependence(term=i, X=XX))\n",
        "    ax.plot(XX[:, i], gam.partial_dependence(term=i, X=XX, width=.95)[1], c='r', ls='--')\n",
        "    XX2 = gam2.generate_X_grid(term=i)\n",
        "    ax.plot(XX2[:, i], gam2.partial_dependence(term=i, X=XX2))\n",
        "    ax.plot(XX2[:, i], gam2.partial_dependence(term=i, X=XX2, width=.95)[1], c='r', ls='--')\n",
        "    if i == 0:\n",
        "        ax.set_ylim(-30,30)\n",
        "    ax.set_title(titles[i]);\n",
        "print(gam.summary())"
      ],
      "metadata": {
        "id": "BHtCOmIRCOa9"
      },
      "execution_count": null,
      "outputs": []
    },
    {
      "cell_type": "markdown",
      "metadata": {
        "id": "jacshDOL9GSJ"
      },
      "source": [
        "#Turn to pdf"
      ]
    },
    {
      "cell_type": "code",
      "execution_count": 61,
      "metadata": {
        "id": "hYKbah_i9J1M",
        "colab": {
          "base_uri": "https://localhost:8080/",
          "height": 615
        },
        "outputId": "419ac0f7-5133-4cc9-c652-f7b786c3af0c"
      },
      "outputs": [
        {
          "output_type": "stream",
          "name": "stdout",
          "text": [
            "--2022-07-03 19:51:49--  https://raw.githubusercontent.com/brpy/colab-pdf/master/colab_pdf.py\n",
            "Resolving raw.githubusercontent.com (raw.githubusercontent.com)... 185.199.108.133, 185.199.109.133, 185.199.110.133, ...\n",
            "Connecting to raw.githubusercontent.com (raw.githubusercontent.com)|185.199.108.133|:443... connected.\n",
            "HTTP request sent, awaiting response... 200 OK\n",
            "Length: 1864 (1.8K) [text/plain]\n",
            "Saving to: ‘colab_pdf.py’\n",
            "\n",
            "colab_pdf.py        100%[===================>]   1.82K  --.-KB/s    in 0s      \n",
            "\n",
            "2022-07-03 19:51:50 (34.1 MB/s) - ‘colab_pdf.py’ saved [1864/1864]\n",
            "\n",
            "Mounted at /content/drive/\n",
            "\n",
            "WARNING: apt does not have a stable CLI interface. Use with caution in scripts.\n",
            "\n",
            "\n",
            "WARNING: apt does not have a stable CLI interface. Use with caution in scripts.\n",
            "\n",
            "Extracting templates from packages: 100%\n",
            "[NbConvertApp] Converting notebook /content/drive/MyDrive/Colab Notebooks/Project_Language.ipynb to pdf\n",
            "[NbConvertApp] Support files will be in Project_Language_files/\n",
            "[NbConvertApp] Making directory ./Project_Language_files\n",
            "[NbConvertApp] Making directory ./Project_Language_files\n",
            "[NbConvertApp] Making directory ./Project_Language_files\n",
            "[NbConvertApp] Making directory ./Project_Language_files\n",
            "[NbConvertApp] Writing 136825 bytes to ./notebook.tex\n",
            "[NbConvertApp] Building PDF\n",
            "[NbConvertApp] Running xelatex 3 times: ['xelatex', './notebook.tex', '-quiet']\n",
            "[NbConvertApp] Running bibtex 1 time: ['bibtex', './notebook']\n",
            "[NbConvertApp] WARNING | bibtex had problems, most likely because there were no citations\n",
            "[NbConvertApp] PDF successfully created\n",
            "[NbConvertApp] Writing 184000 bytes to /content/drive/My Drive/Project_Language.pdf\n"
          ]
        },
        {
          "output_type": "display_data",
          "data": {
            "text/plain": [
              "<IPython.core.display.Javascript object>"
            ],
            "application/javascript": [
              "\n",
              "    async function download(id, filename, size) {\n",
              "      if (!google.colab.kernel.accessAllowed) {\n",
              "        return;\n",
              "      }\n",
              "      const div = document.createElement('div');\n",
              "      const label = document.createElement('label');\n",
              "      label.textContent = `Downloading \"${filename}\": `;\n",
              "      div.appendChild(label);\n",
              "      const progress = document.createElement('progress');\n",
              "      progress.max = size;\n",
              "      div.appendChild(progress);\n",
              "      document.body.appendChild(div);\n",
              "\n",
              "      const buffers = [];\n",
              "      let downloaded = 0;\n",
              "\n",
              "      const channel = await google.colab.kernel.comms.open(id);\n",
              "      // Send a message to notify the kernel that we're ready.\n",
              "      channel.send({})\n",
              "\n",
              "      for await (const message of channel.messages) {\n",
              "        // Send a message to notify the kernel that we're ready.\n",
              "        channel.send({})\n",
              "        if (message.buffers) {\n",
              "          for (const buffer of message.buffers) {\n",
              "            buffers.push(buffer);\n",
              "            downloaded += buffer.byteLength;\n",
              "            progress.value = downloaded;\n",
              "          }\n",
              "        }\n",
              "      }\n",
              "      const blob = new Blob(buffers, {type: 'application/binary'});\n",
              "      const a = document.createElement('a');\n",
              "      a.href = window.URL.createObjectURL(blob);\n",
              "      a.download = filename;\n",
              "      div.appendChild(a);\n",
              "      a.click();\n",
              "      div.remove();\n",
              "    }\n",
              "  "
            ]
          },
          "metadata": {}
        },
        {
          "output_type": "display_data",
          "data": {
            "text/plain": [
              "<IPython.core.display.Javascript object>"
            ],
            "application/javascript": [
              "download(\"download_4d695127-84ac-4403-8d52-0f30dc3ba3ac\", \"Project_Language.pdf\", 184000)"
            ]
          },
          "metadata": {}
        },
        {
          "output_type": "execute_result",
          "data": {
            "text/plain": [
              "'File ready to be Downloaded and Saved to Drive'"
            ],
            "application/vnd.google.colaboratory.intrinsic+json": {
              "type": "string"
            }
          },
          "metadata": {},
          "execution_count": 61
        }
      ],
      "source": [
        "!wget -nc https://raw.githubusercontent.com/brpy/colab-pdf/master/colab_pdf.py\n",
        "from colab_pdf import colab_pdf\n",
        "\n",
        "colab_pdf(file_name='Project_Language.ipynb', notebookpath=\"/content/drive/MyDrive/Colab Notebooks/\")"
      ]
    }
  ],
  "metadata": {
    "accelerator": "GPU",
    "colab": {
      "collapsed_sections": [],
      "name": "Project_Language.ipynb",
      "provenance": []
    },
    "gpuClass": "standard",
    "kernelspec": {
      "display_name": "Python 3",
      "name": "python3"
    }
  },
  "nbformat": 4,
  "nbformat_minor": 0
}